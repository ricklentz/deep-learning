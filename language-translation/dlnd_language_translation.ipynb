{
 "cells": [
  {
   "cell_type": "markdown",
   "metadata": {
    "collapsed": true
   },
   "source": [
    "# Language Translation\n",
    "In this project, you’re going to take a peek into the realm of neural network machine translation.  You’ll be training a sequence to sequence model on a dataset of English and French sentences that can translate new sentences from English to French.\n",
    "## Get the Data\n",
    "Since translating the whole language of English to French will take lots of time to train, we have provided you with a small portion of the English corpus."
   ]
  },
  {
   "cell_type": "code",
   "execution_count": 1,
   "metadata": {
    "collapsed": true
   },
   "outputs": [],
   "source": [
    "\"\"\"\n",
    "DON'T MODIFY ANYTHING IN THIS CELL\n",
    "\"\"\"\n",
    "import helper\n",
    "import problem_unittests as tests\n",
    "\n",
    "source_path = 'data/small_vocab_en'\n",
    "target_path = 'data/small_vocab_fr'\n",
    "source_text = helper.load_data(source_path)\n",
    "target_text = helper.load_data(target_path)"
   ]
  },
  {
   "cell_type": "markdown",
   "metadata": {},
   "source": [
    "## Explore the Data\n",
    "Play around with view_sentence_range to view different parts of the data."
   ]
  },
  {
   "cell_type": "code",
   "execution_count": 2,
   "metadata": {},
   "outputs": [
    {
     "name": "stdout",
     "output_type": "stream",
     "text": [
      "Dataset Stats\n",
      "Roughly the number of unique words: 227\n",
      "Number of sentences: 137861\n",
      "Average number of words in a sentence: 13.225277634719028\n",
      "\n",
      "English sentences 0 to 10:\n",
      "new jersey is sometimes quiet during autumn , and it is snowy in april .\n",
      "the united states is usually chilly during july , and it is usually freezing in november .\n",
      "california is usually quiet during march , and it is usually hot in june .\n",
      "the united states is sometimes mild during june , and it is cold in september .\n",
      "your least liked fruit is the grape , but my least liked is the apple .\n",
      "his favorite fruit is the orange , but my favorite is the grape .\n",
      "paris is relaxing during december , but it is usually chilly in july .\n",
      "new jersey is busy during spring , and it is never hot in march .\n",
      "our least liked fruit is the lemon , but my least liked is the grape .\n",
      "the united states is sometimes busy during january , and it is sometimes warm in november .\n",
      "\n",
      "French sentences 0 to 10:\n",
      "new jersey est parfois calme pendant l' automne , et il est neigeux en avril .\n",
      "les états-unis est généralement froid en juillet , et il gèle habituellement en novembre .\n",
      "california est généralement calme en mars , et il est généralement chaud en juin .\n",
      "les états-unis est parfois légère en juin , et il fait froid en septembre .\n",
      "votre moins aimé fruit est le raisin , mais mon moins aimé est la pomme .\n",
      "son fruit préféré est l'orange , mais mon préféré est le raisin .\n",
      "paris est relaxant en décembre , mais il est généralement froid en juillet .\n",
      "new jersey est occupé au printemps , et il est jamais chaude en mars .\n",
      "notre fruit est moins aimé le citron , mais mon moins aimé est le raisin .\n",
      "les états-unis est parfois occupé en janvier , et il est parfois chaud en novembre .\n"
     ]
    }
   ],
   "source": [
    "view_sentence_range = (0, 10)\n",
    "\n",
    "\"\"\"\n",
    "DON'T MODIFY ANYTHING IN THIS CELL\n",
    "\"\"\"\n",
    "import numpy as np\n",
    "\n",
    "print('Dataset Stats')\n",
    "print('Roughly the number of unique words: {}'.format(len({word: None for word in source_text.split()})))\n",
    "\n",
    "sentences = source_text.split('\\n')\n",
    "word_counts = [len(sentence.split()) for sentence in sentences]\n",
    "print('Number of sentences: {}'.format(len(sentences)))\n",
    "print('Average number of words in a sentence: {}'.format(np.average(word_counts)))\n",
    "\n",
    "print()\n",
    "print('English sentences {} to {}:'.format(*view_sentence_range))\n",
    "print('\\n'.join(source_text.split('\\n')[view_sentence_range[0]:view_sentence_range[1]]))\n",
    "print()\n",
    "print('French sentences {} to {}:'.format(*view_sentence_range))\n",
    "print('\\n'.join(target_text.split('\\n')[view_sentence_range[0]:view_sentence_range[1]]))"
   ]
  },
  {
   "cell_type": "markdown",
   "metadata": {},
   "source": [
    "## Implement Preprocessing Function\n",
    "### Text to Word Ids\n",
    "As you did with other RNNs, you must turn the text into a number so the computer can understand it. In the function `text_to_ids()`, you'll turn `source_text` and `target_text` from words to ids.  However, you need to add the `<EOS>` word id at the end of `target_text`.  This will help the neural network predict when the sentence should end.\n",
    "\n",
    "You can get the `<EOS>` word id by doing:\n",
    "```python\n",
    "target_vocab_to_int['<EOS>']\n",
    "```\n",
    "You can get other word ids using `source_vocab_to_int` and `target_vocab_to_int`."
   ]
  },
  {
   "cell_type": "code",
   "execution_count": 3,
   "metadata": {},
   "outputs": [
    {
     "name": "stdout",
     "output_type": "stream",
     "text": [
      "Tests Passed\n"
     ]
    }
   ],
   "source": [
    "def text_to_ids(source_text, target_text, source_vocab_to_int, target_vocab_to_int):\n",
    "    \"\"\"\n",
    "    Convert source and target text to proper word ids\n",
    "    :param source_text: String that contains all the source text.\n",
    "    :param target_text: String that contains all the target text.\n",
    "    :param source_vocab_to_int: Dictionary to go from the source words to an id\n",
    "    :param target_vocab_to_int: Dictionary to go from the target words to an id\n",
    "    :return: A tuple of lists (source_id_text, target_id_text)\n",
    "    \"\"\"\n",
    "    # updated to use list comprehension\n",
    "    source_sentences = [sentence for sentence in source_text.split('\\n')]\n",
    "    target_sentences = [sentence + ' <EOS>' for sentence in target_text.split('\\n')]\n",
    "    \n",
    "    source_id_text= [[source_vocab_to_int[word] for word in sentence.split()] for sentence in source_sentences]\n",
    "    target_id_text= [[target_vocab_to_int[word] for word in sentence.split()] for sentence in target_sentences]\n",
    "    \n",
    "    return (source_id_text, target_id_text)\n",
    "\n",
    "\"\"\"\n",
    "DON'T MODIFY ANYTHING IN THIS CELL THAT IS BELOW THIS LINE\n",
    "\"\"\"\n",
    "tests.test_text_to_ids(text_to_ids)"
   ]
  },
  {
   "cell_type": "markdown",
   "metadata": {},
   "source": [
    "### Preprocess all the data and save it\n",
    "Running the code cell below will preprocess all the data and save it to file."
   ]
  },
  {
   "cell_type": "code",
   "execution_count": 4,
   "metadata": {
    "collapsed": true
   },
   "outputs": [],
   "source": [
    "\"\"\"\n",
    "DON'T MODIFY ANYTHING IN THIS CELL\n",
    "\"\"\"\n",
    "helper.preprocess_and_save_data(source_path, target_path, text_to_ids)"
   ]
  },
  {
   "cell_type": "markdown",
   "metadata": {},
   "source": [
    "# Check Point\n",
    "This is your first checkpoint. If you ever decide to come back to this notebook or have to restart the notebook, you can start from here. The preprocessed data has been saved to disk."
   ]
  },
  {
   "cell_type": "code",
   "execution_count": 5,
   "metadata": {
    "collapsed": true
   },
   "outputs": [],
   "source": [
    "\"\"\"\n",
    "DON'T MODIFY ANYTHING IN THIS CELL\n",
    "\"\"\"\n",
    "import numpy as np\n",
    "import helper\n",
    "import problem_unittests as tests\n",
    "\n",
    "(source_int_text, target_int_text), (source_vocab_to_int, target_vocab_to_int), _ = helper.load_preprocess()"
   ]
  },
  {
   "cell_type": "markdown",
   "metadata": {},
   "source": [
    "### Check the Version of TensorFlow and Access to GPU\n",
    "This will check to make sure you have the correct version of TensorFlow and access to a GPU"
   ]
  },
  {
   "cell_type": "code",
   "execution_count": 6,
   "metadata": {},
   "outputs": [
    {
     "name": "stdout",
     "output_type": "stream",
     "text": [
      "TensorFlow Version: 1.2.1\n",
      "Default GPU Device: /gpu:0\n"
     ]
    }
   ],
   "source": [
    "\"\"\"\n",
    "DON'T MODIFY ANYTHING IN THIS CELL\n",
    "\"\"\"\n",
    "from distutils.version import LooseVersion\n",
    "import warnings\n",
    "import tensorflow as tf\n",
    "from tensorflow.python.layers.core import Dense\n",
    "\n",
    "# Check TensorFlow Version\n",
    "assert LooseVersion(tf.__version__) >= LooseVersion('1.1'), 'Please use TensorFlow version 1.1 or newer'\n",
    "print('TensorFlow Version: {}'.format(tf.__version__))\n",
    "\n",
    "# Check for a GPU\n",
    "if not tf.test.gpu_device_name():\n",
    "    warnings.warn('No GPU found. Please use a GPU to train your neural network.')\n",
    "else:\n",
    "    print('Default GPU Device: {}'.format(tf.test.gpu_device_name()))"
   ]
  },
  {
   "cell_type": "markdown",
   "metadata": {},
   "source": [
    "## Build the Neural Network\n",
    "You'll build the components necessary to build a Sequence-to-Sequence model by implementing the following functions below:\n",
    "- `model_inputs`\n",
    "- `process_decoder_input`\n",
    "- `encoding_layer`\n",
    "- `decoding_layer_train`\n",
    "- `decoding_layer_infer`\n",
    "- `decoding_layer`\n",
    "- `seq2seq_model`\n",
    "\n",
    "### Input\n",
    "Implement the `model_inputs()` function to create TF Placeholders for the Neural Network. It should create the following placeholders:\n",
    "\n",
    "- Input text placeholder named \"input\" using the TF Placeholder name parameter with rank 2.\n",
    "- Targets placeholder with rank 2.\n",
    "- Learning rate placeholder with rank 0.\n",
    "- Keep probability placeholder named \"keep_prob\" using the TF Placeholder name parameter with rank 0.\n",
    "- Target sequence length placeholder named \"target_sequence_length\" with rank 1\n",
    "- Max target sequence length tensor named \"max_target_len\" getting its value from applying tf.reduce_max on the target_sequence_length placeholder. Rank 0.\n",
    "- Source sequence length placeholder named \"source_sequence_length\" with rank 1\n",
    "\n",
    "Return the placeholders in the following the tuple (input, targets, learning rate, keep probability, target sequence length, max target sequence length, source sequence length)"
   ]
  },
  {
   "cell_type": "code",
   "execution_count": 7,
   "metadata": {},
   "outputs": [
    {
     "name": "stdout",
     "output_type": "stream",
     "text": [
      "ERROR:tensorflow:==================================\n",
      "Object was never used (type <class 'tensorflow.python.framework.ops.Operation'>):\n",
      "<tf.Operation 'assert_rank_2/Assert/Assert' type=Assert>\n",
      "If you want to mark it as used call its \"mark_used()\" method.\n",
      "It was originally created here:\n",
      "['File \"/home/cbios/anaconda3/lib/python3.6/runpy.py\", line 193, in _run_module_as_main\\n    \"__main__\", mod_spec)', 'File \"/home/cbios/anaconda3/lib/python3.6/runpy.py\", line 85, in _run_code\\n    exec(code, run_globals)', 'File \"/home/cbios/anaconda3/lib/python3.6/site-packages/ipykernel_launcher.py\", line 16, in <module>\\n    app.launch_new_instance()', 'File \"/home/cbios/anaconda3/lib/python3.6/site-packages/traitlets/config/application.py\", line 658, in launch_instance\\n    app.start()', 'File \"/home/cbios/anaconda3/lib/python3.6/site-packages/ipykernel/kernelapp.py\", line 477, in start\\n    ioloop.IOLoop.instance().start()', 'File \"/home/cbios/anaconda3/lib/python3.6/site-packages/zmq/eventloop/ioloop.py\", line 177, in start\\n    super(ZMQIOLoop, self).start()', 'File \"/home/cbios/anaconda3/lib/python3.6/site-packages/tornado/ioloop.py\", line 888, in start\\n    handler_func(fd_obj, events)', 'File \"/home/cbios/anaconda3/lib/python3.6/site-packages/tornado/stack_context.py\", line 277, in null_wrapper\\n    return fn(*args, **kwargs)', 'File \"/home/cbios/anaconda3/lib/python3.6/site-packages/zmq/eventloop/zmqstream.py\", line 440, in _handle_events\\n    self._handle_recv()', 'File \"/home/cbios/anaconda3/lib/python3.6/site-packages/zmq/eventloop/zmqstream.py\", line 472, in _handle_recv\\n    self._run_callback(callback, msg)', 'File \"/home/cbios/anaconda3/lib/python3.6/site-packages/zmq/eventloop/zmqstream.py\", line 414, in _run_callback\\n    callback(*args, **kwargs)', 'File \"/home/cbios/anaconda3/lib/python3.6/site-packages/tornado/stack_context.py\", line 277, in null_wrapper\\n    return fn(*args, **kwargs)', 'File \"/home/cbios/anaconda3/lib/python3.6/site-packages/ipykernel/kernelbase.py\", line 283, in dispatcher\\n    return self.dispatch_shell(stream, msg)', 'File \"/home/cbios/anaconda3/lib/python3.6/site-packages/ipykernel/kernelbase.py\", line 235, in dispatch_shell\\n    handler(stream, idents, msg)', 'File \"/home/cbios/anaconda3/lib/python3.6/site-packages/ipykernel/kernelbase.py\", line 399, in execute_request\\n    user_expressions, allow_stdin)', 'File \"/home/cbios/anaconda3/lib/python3.6/site-packages/ipykernel/ipkernel.py\", line 196, in do_execute\\n    res = shell.run_cell(code, store_history=store_history, silent=silent)', 'File \"/home/cbios/anaconda3/lib/python3.6/site-packages/ipykernel/zmqshell.py\", line 533, in run_cell\\n    return super(ZMQInteractiveShell, self).run_cell(*args, **kwargs)', 'File \"/home/cbios/anaconda3/lib/python3.6/site-packages/IPython/core/interactiveshell.py\", line 2717, in run_cell\\n    interactivity=interactivity, compiler=compiler, result=result)', 'File \"/home/cbios/anaconda3/lib/python3.6/site-packages/IPython/core/interactiveshell.py\", line 2827, in run_ast_nodes\\n    if self.run_code(code, result):', 'File \"/home/cbios/anaconda3/lib/python3.6/site-packages/IPython/core/interactiveshell.py\", line 2881, in run_code\\n    exec(code_obj, self.user_global_ns, self.user_ns)', 'File \"<ipython-input-7-eef553aea72c>\", line 22, in <module>\\n    tests.test_model_inputs(model_inputs)', 'File \"/home/cbios/github/deep-learning/language-translation/problem_unittests.py\", line 106, in test_model_inputs\\n    assert tf.assert_rank(lr, 0, message=\\'Learning Rate has wrong rank\\')', 'File \"/home/cbios/anaconda3/lib/python3.6/site-packages/tensorflow/python/ops/check_ops.py\", line 617, in assert_rank\\n    dynamic_condition, data, summarize)', 'File \"/home/cbios/anaconda3/lib/python3.6/site-packages/tensorflow/python/ops/check_ops.py\", line 571, in _assert_rank_condition\\n    return control_flow_ops.Assert(condition, data, summarize=summarize)', 'File \"/home/cbios/anaconda3/lib/python3.6/site-packages/tensorflow/python/util/tf_should_use.py\", line 170, in wrapped\\n    return _add_should_use_warning(fn(*args, **kwargs))', 'File \"/home/cbios/anaconda3/lib/python3.6/site-packages/tensorflow/python/util/tf_should_use.py\", line 139, in _add_should_use_warning\\n    wrapped = TFShouldUseWarningWrapper(x)', 'File \"/home/cbios/anaconda3/lib/python3.6/site-packages/tensorflow/python/util/tf_should_use.py\", line 96, in __init__\\n    stack = [s.strip() for s in traceback.format_stack()]']\n",
      "==================================\n",
      "ERROR:tensorflow:==================================\n",
      "Object was never used (type <class 'tensorflow.python.framework.ops.Operation'>):\n",
      "<tf.Operation 'assert_rank_3/Assert/Assert' type=Assert>\n",
      "If you want to mark it as used call its \"mark_used()\" method.\n",
      "It was originally created here:\n",
      "['File \"/home/cbios/anaconda3/lib/python3.6/runpy.py\", line 193, in _run_module_as_main\\n    \"__main__\", mod_spec)', 'File \"/home/cbios/anaconda3/lib/python3.6/runpy.py\", line 85, in _run_code\\n    exec(code, run_globals)', 'File \"/home/cbios/anaconda3/lib/python3.6/site-packages/ipykernel_launcher.py\", line 16, in <module>\\n    app.launch_new_instance()', 'File \"/home/cbios/anaconda3/lib/python3.6/site-packages/traitlets/config/application.py\", line 658, in launch_instance\\n    app.start()', 'File \"/home/cbios/anaconda3/lib/python3.6/site-packages/ipykernel/kernelapp.py\", line 477, in start\\n    ioloop.IOLoop.instance().start()', 'File \"/home/cbios/anaconda3/lib/python3.6/site-packages/zmq/eventloop/ioloop.py\", line 177, in start\\n    super(ZMQIOLoop, self).start()', 'File \"/home/cbios/anaconda3/lib/python3.6/site-packages/tornado/ioloop.py\", line 888, in start\\n    handler_func(fd_obj, events)', 'File \"/home/cbios/anaconda3/lib/python3.6/site-packages/tornado/stack_context.py\", line 277, in null_wrapper\\n    return fn(*args, **kwargs)', 'File \"/home/cbios/anaconda3/lib/python3.6/site-packages/zmq/eventloop/zmqstream.py\", line 440, in _handle_events\\n    self._handle_recv()', 'File \"/home/cbios/anaconda3/lib/python3.6/site-packages/zmq/eventloop/zmqstream.py\", line 472, in _handle_recv\\n    self._run_callback(callback, msg)', 'File \"/home/cbios/anaconda3/lib/python3.6/site-packages/zmq/eventloop/zmqstream.py\", line 414, in _run_callback\\n    callback(*args, **kwargs)', 'File \"/home/cbios/anaconda3/lib/python3.6/site-packages/tornado/stack_context.py\", line 277, in null_wrapper\\n    return fn(*args, **kwargs)', 'File \"/home/cbios/anaconda3/lib/python3.6/site-packages/ipykernel/kernelbase.py\", line 283, in dispatcher\\n    return self.dispatch_shell(stream, msg)', 'File \"/home/cbios/anaconda3/lib/python3.6/site-packages/ipykernel/kernelbase.py\", line 235, in dispatch_shell\\n    handler(stream, idents, msg)', 'File \"/home/cbios/anaconda3/lib/python3.6/site-packages/ipykernel/kernelbase.py\", line 399, in execute_request\\n    user_expressions, allow_stdin)', 'File \"/home/cbios/anaconda3/lib/python3.6/site-packages/ipykernel/ipkernel.py\", line 196, in do_execute\\n    res = shell.run_cell(code, store_history=store_history, silent=silent)', 'File \"/home/cbios/anaconda3/lib/python3.6/site-packages/ipykernel/zmqshell.py\", line 533, in run_cell\\n    return super(ZMQInteractiveShell, self).run_cell(*args, **kwargs)', 'File \"/home/cbios/anaconda3/lib/python3.6/site-packages/IPython/core/interactiveshell.py\", line 2717, in run_cell\\n    interactivity=interactivity, compiler=compiler, result=result)', 'File \"/home/cbios/anaconda3/lib/python3.6/site-packages/IPython/core/interactiveshell.py\", line 2827, in run_ast_nodes\\n    if self.run_code(code, result):', 'File \"/home/cbios/anaconda3/lib/python3.6/site-packages/IPython/core/interactiveshell.py\", line 2881, in run_code\\n    exec(code_obj, self.user_global_ns, self.user_ns)', 'File \"<ipython-input-7-eef553aea72c>\", line 22, in <module>\\n    tests.test_model_inputs(model_inputs)', 'File \"/home/cbios/github/deep-learning/language-translation/problem_unittests.py\", line 107, in test_model_inputs\\n    assert tf.assert_rank(keep_prob, 0, message=\\'Keep Probability has wrong rank\\')', 'File \"/home/cbios/anaconda3/lib/python3.6/site-packages/tensorflow/python/ops/check_ops.py\", line 617, in assert_rank\\n    dynamic_condition, data, summarize)', 'File \"/home/cbios/anaconda3/lib/python3.6/site-packages/tensorflow/python/ops/check_ops.py\", line 571, in _assert_rank_condition\\n    return control_flow_ops.Assert(condition, data, summarize=summarize)', 'File \"/home/cbios/anaconda3/lib/python3.6/site-packages/tensorflow/python/util/tf_should_use.py\", line 170, in wrapped\\n    return _add_should_use_warning(fn(*args, **kwargs))', 'File \"/home/cbios/anaconda3/lib/python3.6/site-packages/tensorflow/python/util/tf_should_use.py\", line 139, in _add_should_use_warning\\n    wrapped = TFShouldUseWarningWrapper(x)', 'File \"/home/cbios/anaconda3/lib/python3.6/site-packages/tensorflow/python/util/tf_should_use.py\", line 96, in __init__\\n    stack = [s.strip() for s in traceback.format_stack()]']\n",
      "==================================\n"
     ]
    },
    {
     "name": "stdout",
     "output_type": "stream",
     "text": [
      "Tests Passed\n"
     ]
    }
   ],
   "source": [
    "def model_inputs():\n",
    "    \"\"\"\n",
    "    Create TF Placeholders for input, targets, learning rate, and lengths of source and target sequences.\n",
    "    :return: Tuple (input, targets, learning rate, keep probability, target sequence length,\n",
    "    max target sequence length, source sequence length)\n",
    "    \"\"\"\n",
    "    \n",
    "    _input = tf.placeholder(shape=[None,None],name=\"input\",dtype=tf.int32)\n",
    "    _targets = tf.placeholder(shape=[None,None],name=\"targets\",dtype=tf.int32)\n",
    "    _learning_rate = tf.placeholder(shape=None,name=\"learning_rate\",dtype=tf.float32)\n",
    "    _keep_probability = tf.placeholder(shape=None,name=\"keep_prob\",dtype=tf.float32)\n",
    "    _target_sequence_length = tf.placeholder(shape=[None],name=\"target_sequence_length\",dtype=tf.int32)\n",
    "    _max_target_sequence_length = tf.reduce_max(_target_sequence_length,name=\"max_target_len\")\n",
    "    _source_sequence_length = tf.placeholder(shape=[None],name=\"source_sequence_length\",dtype=tf.int32)\n",
    "    \n",
    "    return (_input, _targets, _learning_rate, _keep_probability, _target_sequence_length, _max_target_sequence_length, _source_sequence_length)\n",
    "\n",
    "\n",
    "\"\"\"\n",
    "DON'T MODIFY ANYTHING IN THIS CELL THAT IS BELOW THIS LINE\n",
    "\"\"\"\n",
    "tests.test_model_inputs(model_inputs)"
   ]
  },
  {
   "cell_type": "markdown",
   "metadata": {},
   "source": [
    "### Process Decoder Input\n",
    "Implement `process_decoder_input` by removing the last word id from each batch in `target_data` and concat the GO ID to the begining of each batch."
   ]
  },
  {
   "cell_type": "code",
   "execution_count": 8,
   "metadata": {},
   "outputs": [
    {
     "name": "stdout",
     "output_type": "stream",
     "text": [
      "Tests Passed\n"
     ]
    }
   ],
   "source": [
    "def process_decoder_input(target_data, target_vocab_to_int, batch_size):\n",
    "    \"\"\"\n",
    "    Preprocess target data for encoding\n",
    "    :param target_data: Target Placehoder\n",
    "    :param target_vocab_to_int: Dictionary to go from the target words to an id\n",
    "    :param batch_size: Batch Size\n",
    "    :return: Preprocessed target data\n",
    "    \"\"\"\n",
    "    \n",
    "    # remove the last word id from each batch in target_data\n",
    "    strided_slice = tf.strided_slice(target_data,\n",
    "                                     begin=[0,0],\n",
    "                                     end=[batch_size, -1],\n",
    "                                     strides=[1,1])\n",
    "    \n",
    "    # concatenate the GO ID to the begining of each batch\n",
    "    concat_values = tf.fill(dims=[batch_size, 1],\n",
    "                    value=target_vocab_to_int['<GO>'])\n",
    "    decoded_target_data = tf.concat(values=[concat_values,strided_slice],\n",
    "                                   axis=1)\n",
    "    \n",
    "    \n",
    "    return decoded_target_data\n",
    "\"\"\"\n",
    "DON'T MODIFY ANYTHING IN THIS CELL THAT IS BELOW THIS LINE\n",
    "\"\"\"\n",
    "tests.test_process_encoding_input(process_decoder_input)"
   ]
  },
  {
   "cell_type": "markdown",
   "metadata": {},
   "source": [
    "### Encoding\n",
    "Implement `encoding_layer()` to create a Encoder RNN layer:\n",
    " * Embed the encoder input using [`tf.contrib.layers.embed_sequence`](https://www.tensorflow.org/api_docs/python/tf/contrib/layers/embed_sequence)\n",
    " * Construct a [stacked](https://github.com/tensorflow/tensorflow/blob/6947f65a374ebf29e74bb71e36fd82760056d82c/tensorflow/docs_src/tutorials/recurrent.md#stacking-multiple-lstms) [`tf.contrib.rnn.LSTMCell`](https://www.tensorflow.org/api_docs/python/tf/contrib/rnn/LSTMCell) wrapped in a [`tf.contrib.rnn.DropoutWrapper`](https://www.tensorflow.org/api_docs/python/tf/contrib/rnn/DropoutWrapper)\n",
    " * Pass cell and embedded input to [`tf.nn.dynamic_rnn()`](https://www.tensorflow.org/api_docs/python/tf/nn/dynamic_rnn)"
   ]
  },
  {
   "cell_type": "code",
   "execution_count": 9,
   "metadata": {
    "scrolled": false
   },
   "outputs": [
    {
     "name": "stdout",
     "output_type": "stream",
     "text": [
      "Tests Passed\n"
     ]
    }
   ],
   "source": [
    "from imp import reload\n",
    "reload(tests)\n",
    "\n",
    "def encoding_layer(rnn_inputs, rnn_size, num_layers, keep_prob, \n",
    "                   source_sequence_length, source_vocab_size, \n",
    "                   encoding_embedding_size):\n",
    "    \"\"\"\n",
    "    Create encoding layer\n",
    "    :param rnn_inputs: Inputs for the RNN\n",
    "    :param rnn_size: RNN Size\n",
    "    :param num_layers: Number of layers\n",
    "    :param keep_prob: Dropout keep probability\n",
    "    :param source_sequence_length: a list of the lengths of each sequence in the batch\n",
    "    :param source_vocab_size: vocabulary size of source data\n",
    "    :param encoding_embedding_size: embedding size of source data\n",
    "    :return: tuple (RNN output, RNN state)\n",
    "    \"\"\"\n",
    "    # embed the encoder input using tf.contrib.layers.embed_sequence\n",
    "    embed = tf.contrib.layers.embed_sequence(rnn_inputs, source_vocab_size, encoding_embedding_size)\n",
    "    \n",
    "    # construct a stacked tf.contrib.rnn.LSTMCell wrapped in a tf.contrib.rnn.DropoutWrapper using the num_layers\n",
    "    lstm_layers = []\n",
    "    for idx in range(num_layers):\n",
    "        lstm_layers.append(tf.contrib.rnn.LSTMCell(rnn_size))\n",
    "        \n",
    "    cell = tf.contrib.rnn.DropoutWrapper( tf.contrib.rnn.MultiRNNCell(lstm_layers), keep_prob)\n",
    "    \n",
    "    # pass cell and embedded input to tf.nn.dynamic_rnn()\n",
    "    rnn_output, rnn_state = tf.nn.dynamic_rnn(cell, embed, sequence_length=source_sequence_length, dtype=tf.float32)\n",
    "    \n",
    "    return rnn_output, rnn_state\n",
    "\n",
    "\"\"\"\n",
    "DON'T MODIFY ANYTHING IN THIS CELL THAT IS BELOW THIS LINE\n",
    "\"\"\"\n",
    "tests.test_encoding_layer(encoding_layer)"
   ]
  },
  {
   "cell_type": "markdown",
   "metadata": {},
   "source": [
    "### Decoding - Training\n",
    "Create a training decoding layer:\n",
    "* Create a [`tf.contrib.seq2seq.TrainingHelper`](https://www.tensorflow.org/api_docs/python/tf/contrib/seq2seq/TrainingHelper) \n",
    "* Create a [`tf.contrib.seq2seq.BasicDecoder`](https://www.tensorflow.org/api_docs/python/tf/contrib/seq2seq/BasicDecoder)\n",
    "* Obtain the decoder outputs from [`tf.contrib.seq2seq.dynamic_decode`](https://www.tensorflow.org/api_docs/python/tf/contrib/seq2seq/dynamic_decode)"
   ]
  },
  {
   "cell_type": "code",
   "execution_count": 10,
   "metadata": {},
   "outputs": [
    {
     "name": "stdout",
     "output_type": "stream",
     "text": [
      "Tests Passed\n"
     ]
    }
   ],
   "source": [
    "\n",
    "def decoding_layer_train(encoder_state, dec_cell, dec_embed_input, \n",
    "                         target_sequence_length, max_summary_length, \n",
    "                         output_layer, keep_prob):\n",
    "    \"\"\"\n",
    "    Create a decoding layer for training\n",
    "    :param encoder_state: Encoder State\n",
    "    :param dec_cell: Decoder RNN Cell\n",
    "    :param dec_embed_input: Decoder embedded input\n",
    "    :param target_sequence_length: The lengths of each sequence in the target batch\n",
    "    :param max_summary_length: The length of the longest sequence in the batch\n",
    "    :param output_layer: Function to apply the output layer\n",
    "    :param keep_prob: Dropout keep probability\n",
    "    :return: BasicDecoderOutput containing training logits and sample_id\n",
    "    \"\"\"\n",
    "    \n",
    "    # create a decoding layer using the training helper\n",
    "    decoding_layer_helper = tf.contrib.seq2seq.TrainingHelper(inputs=dec_embed_input,\n",
    "                                                       sequence_length=target_sequence_length)\n",
    "    \n",
    "    # create a basic decoder \n",
    "    dropout_cell = tf.contrib.rnn.DropoutWrapper( dec_cell, keep_prob)\n",
    "    basic_decoder = tf.contrib.seq2seq.BasicDecoder(cell=dropout_cell,\n",
    "                                                    helper=decoding_layer_helper, \n",
    "                                                    initial_state=encoder_state, \n",
    "                                                    output_layer=output_layer)\n",
    "    \n",
    "    # obtain the decoder outputs from tf.contrib.seq2seq.dynamic_decode\n",
    "    decoder_outputs, decoder_state, decoder_sequence_lengths = tf.contrib.seq2seq.dynamic_decode(decoder=basic_decoder, \n",
    "                                                                                                 maximum_iterations=max_summary_length)\n",
    "    \n",
    "    return decoder_outputs\n",
    "\n",
    "\n",
    "\n",
    "\"\"\"\n",
    "DON'T MODIFY ANYTHING IN THIS CELL THAT IS BELOW THIS LINE\n",
    "\"\"\"\n",
    "tests.test_decoding_layer_train(decoding_layer_train)"
   ]
  },
  {
   "cell_type": "markdown",
   "metadata": {},
   "source": [
    "### Decoding - Inference\n",
    "Create inference decoder:\n",
    "* Create a [`tf.contrib.seq2seq.GreedyEmbeddingHelper`](https://www.tensorflow.org/api_docs/python/tf/contrib/seq2seq/GreedyEmbeddingHelper)\n",
    "* Create a [`tf.contrib.seq2seq.BasicDecoder`](https://www.tensorflow.org/api_docs/python/tf/contrib/seq2seq/BasicDecoder)\n",
    "* Obtain the decoder outputs from [`tf.contrib.seq2seq.dynamic_decode`](https://www.tensorflow.org/api_docs/python/tf/contrib/seq2seq/dynamic_decode)"
   ]
  },
  {
   "cell_type": "code",
   "execution_count": 11,
   "metadata": {
    "scrolled": true
   },
   "outputs": [
    {
     "name": "stdout",
     "output_type": "stream",
     "text": [
      "Tests Passed\n"
     ]
    }
   ],
   "source": [
    "def decoding_layer_infer(encoder_state, dec_cell, dec_embeddings, start_of_sequence_id,\n",
    "                         end_of_sequence_id, max_target_sequence_length,\n",
    "                         vocab_size, output_layer, batch_size, keep_prob):\n",
    "    \"\"\"\n",
    "    Create a decoding layer for inference\n",
    "    x:param encoder_state: Encoder state\n",
    "    x:param dec_cell: Decoder RNN Cell\n",
    "    x:param dec_embeddings: Decoder embeddings\n",
    "    x:param start_of_sequence_id: GO ID\n",
    "    x:param end_of_sequence_id: EOS Id\n",
    "    :param max_target_sequence_length: Maximum length of target sequences\n",
    "    :param vocab_size: Size of decoder/target vocabulary\n",
    "    :param decoding_scope: TenorFlow Variable Scope for decoding\n",
    "    x:param output_layer: Function to apply the output layer\n",
    "    :param batch_size: Batch size\n",
    "    :param keep_prob: Dropout keep probability\n",
    "    :return: BasicDecoderOutput containing inference logits and sample_id\n",
    "    \"\"\"\n",
    "    \n",
    "    # find the start_tokens and end tokens   \n",
    "    # per the project slack channel/forums, tf.tile can help replicate the input multiples times.\n",
    "    start_tokens = tf.tile(input=tf.constant([start_of_sequence_id],dtype=tf.int32),\n",
    "                           multiples=[batch_size])\n",
    "    \n",
    "    \n",
    "    \n",
    "    # create a tf.contrib.seq2seq.GreedyEmbeddingHelper\n",
    "    greedy_embedding_helper = tf.contrib.seq2seq.GreedyEmbeddingHelper(embedding=dec_embeddings,\n",
    "                                                                      start_tokens=start_tokens,\n",
    "                                                                      end_token=end_of_sequence_id)\n",
    "    \n",
    "    # create a tf.contrib.seq2seq.BasicDecoder\n",
    "    basic_decoder = tf.contrib.seq2seq.BasicDecoder(cell=dec_cell,\n",
    "                                                    helper=greedy_embedding_helper,\n",
    "                                                    initial_state=encoder_state,\n",
    "                                                    output_layer=output_layer)\n",
    "    \n",
    "    # create the decoder outputs from tf.contrib.seq2seq.dynamic_decode\n",
    "    basic_decoder_outputs, final_state, final_sequence_lengths = tf.contrib.seq2seq.dynamic_decode(decoder=basic_decoder,\n",
    "                                                                                                  output_time_major=False,\n",
    "                                                                                                  impute_finished=False,\n",
    "                                                                                                  maximum_iterations=max_target_sequence_length,\n",
    "                                                                                                  parallel_iterations=32,\n",
    "                                                                                                  swap_memory=False,\n",
    "                                                                                                  scope=None)\n",
    "\n",
    "    return basic_decoder_outputs\n",
    "\n",
    "\n",
    "\n",
    "\"\"\"\n",
    "DON'T MODIFY ANYTHING IN THIS CELL THAT IS BELOW THIS LINE\n",
    "\"\"\"\n",
    "tests.test_decoding_layer_infer(decoding_layer_infer)"
   ]
  },
  {
   "cell_type": "markdown",
   "metadata": {},
   "source": [
    "### Build the Decoding Layer\n",
    "Implement `decoding_layer()` to create a Decoder RNN layer.\n",
    "\n",
    "* Embed the target sequences\n",
    "* Construct the decoder LSTM cell (just like you constructed the encoder cell above)\n",
    "* Create an output layer to map the outputs of the decoder to the elements of our vocabulary\n",
    "* Use the your `decoding_layer_train(encoder_state, dec_cell, dec_embed_input, target_sequence_length, max_target_sequence_length, output_layer, keep_prob)` function to get the training logits.\n",
    "* Use your `decoding_layer_infer(encoder_state, dec_cell, dec_embeddings, start_of_sequence_id, end_of_sequence_id, max_target_sequence_length, vocab_size, output_layer, batch_size, keep_prob)` function to get the inference logits.\n",
    "\n",
    "Note: You'll need to use [tf.variable_scope](https://www.tensorflow.org/api_docs/python/tf/variable_scope) to share variables between training and inference."
   ]
  },
  {
   "cell_type": "code",
   "execution_count": 12,
   "metadata": {},
   "outputs": [
    {
     "name": "stdout",
     "output_type": "stream",
     "text": [
      "Tests Passed\n"
     ]
    }
   ],
   "source": [
    "def decoding_layer(dec_input, encoder_state,\n",
    "                   target_sequence_length, max_target_sequence_length,\n",
    "                   rnn_size,\n",
    "                   num_layers, target_vocab_to_int, target_vocab_size,\n",
    "                   batch_size, keep_prob, decoding_embedding_size):\n",
    "    \"\"\"\n",
    "    Create decoding layer\n",
    "    x:param dec_input: Decoder input\n",
    "    x:param encoder_state: Encoder state\n",
    "    :param target_sequence_length: The lengths of each sequence in the target batch\n",
    "    :param max_target_sequence_length: Maximum length of target sequences\n",
    "    x:param rnn_size: RNN Size\n",
    "    x:param num_layers: Number of layers\n",
    "    :param target_vocab_to_int: Dictionary to go from the target words to an id\n",
    "    x:param target_vocab_size: Size of target vocabulary\n",
    "    :param batch_size: The size of the batch\n",
    "    x:param keep_prob: Dropout keep probability\n",
    "    x:param decoding_embedding_size: Decoding embedding size\n",
    "    :return: Tuple of (Training BasicDecoderOutput, Inference BasicDecoderOutput)\n",
    "    \"\"\"\n",
    "    \n",
    "    start_of_sequence_id = target_vocab_to_int['<GO>']\n",
    "    end_of_sequence_id = target_vocab_to_int['<EOS>']\n",
    "    \n",
    "    # embed the target sequences using tf.contrib.layers.embed_sequence\n",
    "    dec_embeddings = tf.Variable(tf.random_uniform(shape=[target_vocab_size, decoding_embedding_size]\n",
    "                                                  , minval=-1, maxval = 1))\n",
    "    # looks up ids in a give tensor \n",
    "    dec_embed_input = tf.nn.embedding_lookup(params=dec_embeddings, \n",
    "                                             ids=dec_input)\n",
    "\n",
    "    \n",
    "    # construct a stacked tf.contrib.rnn.LSTMCell wrapped in a tf.contrib.rnn.DropoutWrapper using the num_layers\n",
    "    lstm_layers = []\n",
    "    for idx in range(num_layers):\n",
    "        lstm_layers.append(tf.contrib.rnn.LSTMCell(rnn_size))    \n",
    "    dec_cell = tf.contrib.rnn.DropoutWrapper( tf.contrib.rnn.MultiRNNCell(lstm_layers), keep_prob)\n",
    "    \n",
    "    output_layer = Dense(target_vocab_size, kernel_initializer = tf.truncated_normal_initializer(mean = 0.0, stddev=0.1))\n",
    "        \n",
    "    # use tf.variable_scope to share variables between training and inference.\n",
    "    with tf.variable_scope(\"decoding\") as decoding_scope:\n",
    "            \n",
    "        # get the training logits\n",
    "        training_basic_decoder_output =  decoding_layer_train(encoder_state, dec_cell, dec_embed_input, target_sequence_length, max_target_sequence_length, output_layer, keep_prob)\n",
    "\n",
    "        decoding_scope.reuse_variables()\n",
    "        \n",
    "        # get the inference logits\n",
    "        inference_basic_decoder_output = decoding_layer_infer(encoder_state, dec_cell, dec_embeddings, start_of_sequence_id, end_of_sequence_id, max_target_sequence_length, target_vocab_size, output_layer, batch_size, keep_prob)\n",
    "    \n",
    "    return training_basic_decoder_output, inference_basic_decoder_output\n",
    "\n",
    "\"\"\"\n",
    "DON'T MODIFY ANYTHING IN THIS CELL THAT IS BELOW THIS LINE\n",
    "\"\"\"\n",
    "tests.test_decoding_layer(decoding_layer)"
   ]
  },
  {
   "cell_type": "markdown",
   "metadata": {},
   "source": [
    "### Build the Neural Network\n",
    "Apply the functions you implemented above to:\n",
    "\n",
    "- Encode the input using your `encoding_layer(rnn_inputs, rnn_size, num_layers, keep_prob,  source_sequence_length, source_vocab_size, encoding_embedding_size)`.\n",
    "- Process target data using your `process_decoder_input(target_data, target_vocab_to_int, batch_size)` function.\n",
    "- Decode the encoded input using your `decoding_layer(dec_input, enc_state, target_sequence_length, max_target_sentence_length, rnn_size, num_layers, target_vocab_to_int, target_vocab_size, batch_size, keep_prob, dec_embedding_size)` function."
   ]
  },
  {
   "cell_type": "code",
   "execution_count": 13,
   "metadata": {},
   "outputs": [
    {
     "name": "stdout",
     "output_type": "stream",
     "text": [
      "Tests Passed\n"
     ]
    }
   ],
   "source": [
    "def seq2seq_model(input_data, target_data, keep_prob, batch_size,\n",
    "                  source_sequence_length, target_sequence_length,\n",
    "                  max_target_sentence_length,\n",
    "                  source_vocab_size, target_vocab_size,\n",
    "                  enc_embedding_size, dec_embedding_size,\n",
    "                  rnn_size, num_layers, target_vocab_to_int):\n",
    "    \"\"\"\n",
    "    Build the Sequence-to-Sequence part of the neural network\n",
    "    :param input_data: Input placeholder\n",
    "    :param target_data: Target placeholder\n",
    "    :param keep_prob: Dropout keep probability placeholder\n",
    "    :param batch_size: Batch Size\n",
    "    :param source_sequence_length: Sequence Lengths of source sequences in the batch\n",
    "    :param target_sequence_length: Sequence Lengths of target sequences in the batch\n",
    "    :param source_vocab_size: Source vocabulary size\n",
    "    :param target_vocab_size: Target vocabulary size\n",
    "    :param enc_embedding_size: Decoder embedding size\n",
    "    :param dec_embedding_size: Encoder embedding size\n",
    "    :param rnn_size: RNN Size\n",
    "    :param num_layers: Number of layers\n",
    "    :param target_vocab_to_int: Dictionary to go from the target words to an id\n",
    "    :return: Tuple of (Training BasicDecoderOutput, Inference BasicDecoderOutput)\n",
    "    \"\"\"\n",
    "    # encode the input using your encoding_layer\n",
    "    enc_embed_input = tf.contrib.layers.embed_sequence(input_data, source_vocab_size, enc_embedding_size) \n",
    "    rnn_output, enc_state = encoding_layer(input_data, rnn_size, num_layers, keep_prob, source_sequence_length, source_vocab_size, enc_embedding_size) \n",
    "    \n",
    "    # process target data using process_decoder_input()\n",
    "    dec_input = process_decoder_input(target_data, target_vocab_to_int, batch_size)\n",
    "\n",
    "    # decode in encoded input using decoding_layer()\n",
    "    training_basic_decoder_output, inference_basic_decoder_output = decoding_layer(dec_input, enc_state, target_sequence_length, max_target_sentence_length, rnn_size, num_layers, target_vocab_to_int, target_vocab_size, batch_size, keep_prob, dec_embedding_size)\n",
    "    \n",
    "    \n",
    "    return training_basic_decoder_output, inference_basic_decoder_output\n",
    "\n",
    "\n",
    "\"\"\"\n",
    "DON'T MODIFY ANYTHING IN THIS CELL THAT IS BELOW THIS LINE\n",
    "\"\"\"\n",
    "tests.test_seq2seq_model(seq2seq_model)"
   ]
  },
  {
   "cell_type": "markdown",
   "metadata": {},
   "source": [
    "## Neural Network Training\n",
    "### Hyperparameters\n",
    "Tune the following parameters:\n",
    "\n",
    "- Set `epochs` to the number of epochs.\n",
    "- Set `batch_size` to the batch size.\n",
    "- Set `rnn_size` to the size of the RNNs.\n",
    "- Set `num_layers` to the number of layers.\n",
    "- Set `encoding_embedding_size` to the size of the embedding for the encoder.\n",
    "- Set `decoding_embedding_size` to the size of the embedding for the decoder.\n",
    "- Set `learning_rate` to the learning rate.\n",
    "- Set `keep_probability` to the Dropout keep probability\n",
    "- Set `display_step` to state how many steps between each debug output statement"
   ]
  },
  {
   "cell_type": "code",
   "execution_count": 14,
   "metadata": {
    "collapsed": true
   },
   "outputs": [],
   "source": [
    "# Number of Epochs\n",
    "epochs = 15 #(5-15)\n",
    "# Batch Size\n",
    "batch_size = 1024 #(256, 1024)\n",
    "# RNN Size\n",
    "rnn_size = 512 #(128,512)\n",
    "# Number of Layers\n",
    "num_layers = 4 # (2,4)\n",
    "# Embedding Size, since vocab here is 227 words -> 128-220\n",
    "encoding_embedding_size = 220 # (64,256)\n",
    "decoding_embedding_size = 220 # (64,256)\n",
    "# Learning Rate\n",
    "learning_rate = 0.001 # (.01,.001)\n",
    "# Dropout Keep Probability\n",
    "keep_probability = .8 # (.6, .9)\n",
    "display_step = 10"
   ]
  },
  {
   "cell_type": "markdown",
   "metadata": {},
   "source": [
    "### Build the Graph\n",
    "Build the graph using the neural network you implemented."
   ]
  },
  {
   "cell_type": "code",
   "execution_count": 15,
   "metadata": {
    "collapsed": true
   },
   "outputs": [],
   "source": [
    "\"\"\"\n",
    "DON'T MODIFY ANYTHING IN THIS CELL\n",
    "\"\"\"\n",
    "save_path = 'checkpoints/dev'\n",
    "(source_int_text, target_int_text), (source_vocab_to_int, target_vocab_to_int), _ = helper.load_preprocess()\n",
    "max_target_sentence_length = max([len(sentence) for sentence in source_int_text])\n",
    "\n",
    "train_graph = tf.Graph()\n",
    "with train_graph.as_default():\n",
    "    input_data, targets, lr, keep_prob, target_sequence_length, max_target_sequence_length, source_sequence_length = model_inputs()\n",
    "\n",
    "    #sequence_length = tf.placeholder_with_default(max_target_sentence_length, None, name='sequence_length')\n",
    "    input_shape = tf.shape(input_data)\n",
    "\n",
    "    train_logits, inference_logits = seq2seq_model(tf.reverse(input_data, [-1]),\n",
    "                                                   targets,\n",
    "                                                   keep_prob,\n",
    "                                                   batch_size,\n",
    "                                                   source_sequence_length,\n",
    "                                                   target_sequence_length,\n",
    "                                                   max_target_sequence_length,\n",
    "                                                   len(source_vocab_to_int),\n",
    "                                                   len(target_vocab_to_int),\n",
    "                                                   encoding_embedding_size,\n",
    "                                                   decoding_embedding_size,\n",
    "                                                   rnn_size,\n",
    "                                                   num_layers,\n",
    "                                                   target_vocab_to_int)\n",
    "\n",
    "\n",
    "    training_logits = tf.identity(train_logits.rnn_output, name='logits')\n",
    "    inference_logits = tf.identity(inference_logits.sample_id, name='predictions')\n",
    "\n",
    "    masks = tf.sequence_mask(target_sequence_length, max_target_sequence_length, dtype=tf.float32, name='masks')\n",
    "\n",
    "    with tf.name_scope(\"optimization\"):\n",
    "        # Loss function\n",
    "        cost = tf.contrib.seq2seq.sequence_loss(\n",
    "            training_logits,\n",
    "            targets,\n",
    "            masks)\n",
    "\n",
    "        # Optimizer\n",
    "        optimizer = tf.train.AdamOptimizer(lr)\n",
    "\n",
    "        # Gradient Clipping\n",
    "        gradients = optimizer.compute_gradients(cost)\n",
    "        capped_gradients = [(tf.clip_by_value(grad, -1., 1.), var) for grad, var in gradients if grad is not None]\n",
    "        train_op = optimizer.apply_gradients(capped_gradients)\n"
   ]
  },
  {
   "cell_type": "markdown",
   "metadata": {},
   "source": [
    "Batch and pad the source and target sequences"
   ]
  },
  {
   "cell_type": "code",
   "execution_count": 16,
   "metadata": {
    "collapsed": true
   },
   "outputs": [],
   "source": [
    "\"\"\"\n",
    "DON'T MODIFY ANYTHING IN THIS CELL\n",
    "\"\"\"\n",
    "def pad_sentence_batch(sentence_batch, pad_int):\n",
    "    \"\"\"Pad sentences with <PAD> so that each sentence of a batch has the same length\"\"\"\n",
    "    max_sentence = max([len(sentence) for sentence in sentence_batch])\n",
    "    return [sentence + [pad_int] * (max_sentence - len(sentence)) for sentence in sentence_batch]\n",
    "\n",
    "\n",
    "def get_batches(sources, targets, batch_size, source_pad_int, target_pad_int):\n",
    "    \"\"\"Batch targets, sources, and the lengths of their sentences together\"\"\"\n",
    "    for batch_i in range(0, len(sources)//batch_size):\n",
    "        start_i = batch_i * batch_size\n",
    "\n",
    "        # Slice the right amount for the batch\n",
    "        sources_batch = sources[start_i:start_i + batch_size]\n",
    "        targets_batch = targets[start_i:start_i + batch_size]\n",
    "\n",
    "        # Pad\n",
    "        pad_sources_batch = np.array(pad_sentence_batch(sources_batch, source_pad_int))\n",
    "        pad_targets_batch = np.array(pad_sentence_batch(targets_batch, target_pad_int))\n",
    "\n",
    "        # Need the lengths for the _lengths parameters\n",
    "        pad_targets_lengths = []\n",
    "        for target in pad_targets_batch:\n",
    "            pad_targets_lengths.append(len(target))\n",
    "\n",
    "        pad_source_lengths = []\n",
    "        for source in pad_sources_batch:\n",
    "            pad_source_lengths.append(len(source))\n",
    "\n",
    "        yield pad_sources_batch, pad_targets_batch, pad_source_lengths, pad_targets_lengths\n"
   ]
  },
  {
   "cell_type": "markdown",
   "metadata": {},
   "source": [
    "### Train\n",
    "Train the neural network on the preprocessed data. If you have a hard time getting a good loss, check the forms to see if anyone is having the same problem."
   ]
  },
  {
   "cell_type": "code",
   "execution_count": 17,
   "metadata": {
    "scrolled": true
   },
   "outputs": [
    {
     "name": "stdout",
     "output_type": "stream",
     "text": [
      "Epoch   0 Batch   10/134 - Train Accuracy: 0.1325, Validation Accuracy: 0.1367, Loss: 3.0570\n",
      "Epoch   0 Batch   20/134 - Train Accuracy: 0.4410, Validation Accuracy: 0.4468, Loss: 2.3773\n",
      "Epoch   0 Batch   30/134 - Train Accuracy: 0.4665, Validation Accuracy: 0.4739, Loss: 2.0481\n",
      "Epoch   0 Batch   40/134 - Train Accuracy: 0.4422, Validation Accuracy: 0.4668, Loss: 1.8265\n",
      "Epoch   0 Batch   50/134 - Train Accuracy: 0.4696, Validation Accuracy: 0.4949, Loss: 1.6093\n",
      "Epoch   0 Batch   60/134 - Train Accuracy: 0.4404, Validation Accuracy: 0.4692, Loss: 1.4682\n",
      "Epoch   0 Batch   70/134 - Train Accuracy: 0.4916, Validation Accuracy: 0.5014, Loss: 1.3316\n",
      "Epoch   0 Batch   80/134 - Train Accuracy: 0.4849, Validation Accuracy: 0.5136, Loss: 1.2654\n",
      "Epoch   0 Batch   90/134 - Train Accuracy: 0.4728, Validation Accuracy: 0.4997, Loss: 1.1837\n",
      "Epoch   0 Batch  100/134 - Train Accuracy: 0.4886, Validation Accuracy: 0.5061, Loss: 1.0882\n",
      "Epoch   0 Batch  110/134 - Train Accuracy: 0.5085, Validation Accuracy: 0.5263, Loss: 1.0116\n",
      "Epoch   0 Batch  120/134 - Train Accuracy: 0.4899, Validation Accuracy: 0.5108, Loss: 0.9696\n",
      "Epoch   0 Batch  130/134 - Train Accuracy: 0.5022, Validation Accuracy: 0.5160, Loss: 0.9217\n",
      "Epoch   1 Batch   10/134 - Train Accuracy: 0.5201, Validation Accuracy: 0.5245, Loss: 0.8843\n",
      "Epoch   1 Batch   20/134 - Train Accuracy: 0.5411, Validation Accuracy: 0.5340, Loss: 0.8166\n",
      "Epoch   1 Batch   30/134 - Train Accuracy: 0.5392, Validation Accuracy: 0.5332, Loss: 0.7820\n",
      "Epoch   1 Batch   40/134 - Train Accuracy: 0.5293, Validation Accuracy: 0.5404, Loss: 0.7956\n",
      "Epoch   1 Batch   50/134 - Train Accuracy: 0.5003, Validation Accuracy: 0.5255, Loss: 0.7871\n",
      "Epoch   1 Batch   60/134 - Train Accuracy: 0.5063, Validation Accuracy: 0.5309, Loss: 0.7563\n",
      "Epoch   1 Batch   70/134 - Train Accuracy: 0.5590, Validation Accuracy: 0.5712, Loss: 0.7162\n",
      "Epoch   1 Batch   80/134 - Train Accuracy: 0.5382, Validation Accuracy: 0.5570, Loss: 0.7161\n",
      "Epoch   1 Batch   90/134 - Train Accuracy: 0.5730, Validation Accuracy: 0.5807, Loss: 0.6944\n",
      "Epoch   1 Batch  100/134 - Train Accuracy: 0.5802, Validation Accuracy: 0.5892, Loss: 0.6678\n",
      "Epoch   1 Batch  110/134 - Train Accuracy: 0.6011, Validation Accuracy: 0.5992, Loss: 0.6527\n",
      "Epoch   1 Batch  120/134 - Train Accuracy: 0.5801, Validation Accuracy: 0.5889, Loss: 0.6497\n",
      "Epoch   1 Batch  130/134 - Train Accuracy: 0.4641, Validation Accuracy: 0.4955, Loss: 1.1647\n",
      "Epoch   2 Batch   10/134 - Train Accuracy: 0.5651, Validation Accuracy: 0.5714, Loss: 0.7342\n",
      "Epoch   2 Batch   20/134 - Train Accuracy: 0.5985, Validation Accuracy: 0.5941, Loss: 0.6415\n",
      "Epoch   2 Batch   30/134 - Train Accuracy: 0.6217, Validation Accuracy: 0.6199, Loss: 0.5962\n",
      "Epoch   2 Batch   40/134 - Train Accuracy: 0.6164, Validation Accuracy: 0.6186, Loss: 0.5982\n",
      "Epoch   2 Batch   50/134 - Train Accuracy: 0.6055, Validation Accuracy: 0.6227, Loss: 0.5843\n",
      "Epoch   2 Batch   60/134 - Train Accuracy: 0.6212, Validation Accuracy: 0.6302, Loss: 0.5627\n",
      "Epoch   2 Batch   70/134 - Train Accuracy: 0.6289, Validation Accuracy: 0.6352, Loss: 0.5432\n",
      "Epoch   2 Batch   80/134 - Train Accuracy: 0.6198, Validation Accuracy: 0.6391, Loss: 0.5410\n",
      "Epoch   2 Batch   90/134 - Train Accuracy: 0.6269, Validation Accuracy: 0.6424, Loss: 0.5337\n",
      "Epoch   2 Batch  100/134 - Train Accuracy: 0.6396, Validation Accuracy: 0.6444, Loss: 0.5141\n",
      "Epoch   2 Batch  110/134 - Train Accuracy: 0.6632, Validation Accuracy: 0.6506, Loss: 0.5045\n",
      "Epoch   2 Batch  120/134 - Train Accuracy: 0.6300, Validation Accuracy: 0.6415, Loss: 0.5082\n",
      "Epoch   2 Batch  130/134 - Train Accuracy: 0.6322, Validation Accuracy: 0.6466, Loss: 0.4866\n",
      "Epoch   3 Batch   10/134 - Train Accuracy: 0.6729, Validation Accuracy: 0.6676, Loss: 0.4726\n",
      "Epoch   3 Batch   20/134 - Train Accuracy: 0.6717, Validation Accuracy: 0.6682, Loss: 0.4456\n",
      "Epoch   3 Batch   30/134 - Train Accuracy: 0.6801, Validation Accuracy: 0.6787, Loss: 0.4319\n",
      "Epoch   3 Batch   40/134 - Train Accuracy: 0.6763, Validation Accuracy: 0.6747, Loss: 0.4400\n",
      "Epoch   3 Batch   50/134 - Train Accuracy: 0.6843, Validation Accuracy: 0.7013, Loss: 0.4381\n",
      "Epoch   3 Batch   60/134 - Train Accuracy: 0.6871, Validation Accuracy: 0.7043, Loss: 0.4232\n",
      "Epoch   3 Batch   70/134 - Train Accuracy: 0.6952, Validation Accuracy: 0.6983, Loss: 0.4095\n",
      "Epoch   3 Batch   80/134 - Train Accuracy: 0.6828, Validation Accuracy: 0.7030, Loss: 0.4033\n",
      "Epoch   3 Batch   90/134 - Train Accuracy: 0.7173, Validation Accuracy: 0.7255, Loss: 0.3926\n",
      "Epoch   3 Batch  100/134 - Train Accuracy: 0.7171, Validation Accuracy: 0.7213, Loss: 0.3738\n",
      "Epoch   3 Batch  110/134 - Train Accuracy: 0.7363, Validation Accuracy: 0.7252, Loss: 0.3658\n",
      "Epoch   3 Batch  120/134 - Train Accuracy: 0.7354, Validation Accuracy: 0.7313, Loss: 0.3596\n",
      "Epoch   3 Batch  130/134 - Train Accuracy: 0.7323, Validation Accuracy: 0.7392, Loss: 0.3438\n",
      "Epoch   4 Batch   10/134 - Train Accuracy: 0.7550, Validation Accuracy: 0.7543, Loss: 0.3308\n",
      "Epoch   4 Batch   20/134 - Train Accuracy: 0.7567, Validation Accuracy: 0.7430, Loss: 0.3081\n",
      "Epoch   4 Batch   30/134 - Train Accuracy: 0.7662, Validation Accuracy: 0.7588, Loss: 0.2939\n",
      "Epoch   4 Batch   40/134 - Train Accuracy: 0.7573, Validation Accuracy: 0.7594, Loss: 0.2964\n",
      "Epoch   4 Batch   50/134 - Train Accuracy: 0.7559, Validation Accuracy: 0.7607, Loss: 0.2955\n",
      "Epoch   4 Batch   60/134 - Train Accuracy: 0.7759, Validation Accuracy: 0.7758, Loss: 0.2807\n",
      "Epoch   4 Batch   70/134 - Train Accuracy: 0.7798, Validation Accuracy: 0.7797, Loss: 0.2646\n",
      "Epoch   4 Batch   80/134 - Train Accuracy: 0.7843, Validation Accuracy: 0.7820, Loss: 0.2550\n",
      "Epoch   4 Batch   90/134 - Train Accuracy: 0.7697, Validation Accuracy: 0.7733, Loss: 0.2522\n",
      "Epoch   4 Batch  100/134 - Train Accuracy: 0.7888, Validation Accuracy: 0.7819, Loss: 0.2343\n",
      "Epoch   4 Batch  110/134 - Train Accuracy: 0.8151, Validation Accuracy: 0.7947, Loss: 0.2207\n",
      "Epoch   4 Batch  120/134 - Train Accuracy: 0.8011, Validation Accuracy: 0.8011, Loss: 0.2214\n",
      "Epoch   4 Batch  130/134 - Train Accuracy: 0.8025, Validation Accuracy: 0.8127, Loss: 0.2092\n",
      "Epoch   5 Batch   10/134 - Train Accuracy: 0.8201, Validation Accuracy: 0.8092, Loss: 0.1993\n",
      "Epoch   5 Batch   20/134 - Train Accuracy: 0.8357, Validation Accuracy: 0.8383, Loss: 0.1822\n",
      "Epoch   5 Batch   30/134 - Train Accuracy: 0.8311, Validation Accuracy: 0.8245, Loss: 0.1779\n",
      "Epoch   5 Batch   40/134 - Train Accuracy: 0.8390, Validation Accuracy: 0.8357, Loss: 0.1756\n",
      "Epoch   5 Batch   50/134 - Train Accuracy: 0.8322, Validation Accuracy: 0.8452, Loss: 0.1718\n",
      "Epoch   5 Batch   60/134 - Train Accuracy: 0.8457, Validation Accuracy: 0.8547, Loss: 0.1613\n",
      "Epoch   5 Batch   70/134 - Train Accuracy: 0.8499, Validation Accuracy: 0.8398, Loss: 0.1553\n",
      "Epoch   5 Batch   80/134 - Train Accuracy: 0.8503, Validation Accuracy: 0.8443, Loss: 0.1484\n",
      "Epoch   5 Batch   90/134 - Train Accuracy: 0.8564, Validation Accuracy: 0.8632, Loss: 0.1455\n",
      "Epoch   5 Batch  100/134 - Train Accuracy: 0.8587, Validation Accuracy: 0.8628, Loss: 0.1378\n",
      "Epoch   5 Batch  110/134 - Train Accuracy: 0.8744, Validation Accuracy: 0.8678, Loss: 0.1308\n",
      "Epoch   5 Batch  120/134 - Train Accuracy: 0.8651, Validation Accuracy: 0.8743, Loss: 0.1323\n",
      "Epoch   5 Batch  130/134 - Train Accuracy: 0.8673, Validation Accuracy: 0.8871, Loss: 0.1221\n",
      "Epoch   6 Batch   10/134 - Train Accuracy: 0.8818, Validation Accuracy: 0.8813, Loss: 0.1257\n",
      "Epoch   6 Batch   20/134 - Train Accuracy: 0.8778, Validation Accuracy: 0.8792, Loss: 0.1246\n",
      "Epoch   6 Batch   30/134 - Train Accuracy: 0.8878, Validation Accuracy: 0.8893, Loss: 0.1120\n",
      "Epoch   6 Batch   40/134 - Train Accuracy: 0.8883, Validation Accuracy: 0.8914, Loss: 0.1090\n",
      "Epoch   6 Batch   50/134 - Train Accuracy: 0.8856, Validation Accuracy: 0.8972, Loss: 0.1106\n",
      "Epoch   6 Batch   60/134 - Train Accuracy: 0.8981, Validation Accuracy: 0.8904, Loss: 0.1048\n",
      "Epoch   6 Batch   70/134 - Train Accuracy: 0.8948, Validation Accuracy: 0.9044, Loss: 0.1044\n",
      "Epoch   6 Batch   80/134 - Train Accuracy: 0.9068, Validation Accuracy: 0.9051, Loss: 0.0996\n",
      "Epoch   6 Batch   90/134 - Train Accuracy: 0.9015, Validation Accuracy: 0.9140, Loss: 0.1007\n",
      "Epoch   6 Batch  100/134 - Train Accuracy: 0.9178, Validation Accuracy: 0.9222, Loss: 0.0949\n",
      "Epoch   6 Batch  110/134 - Train Accuracy: 0.9181, Validation Accuracy: 0.9160, Loss: 0.0878\n"
     ]
    },
    {
     "name": "stdout",
     "output_type": "stream",
     "text": [
      "Epoch   6 Batch  120/134 - Train Accuracy: 0.9183, Validation Accuracy: 0.9167, Loss: 0.0917\n",
      "Epoch   6 Batch  130/134 - Train Accuracy: 0.9229, Validation Accuracy: 0.9178, Loss: 0.0852\n",
      "Epoch   7 Batch   10/134 - Train Accuracy: 0.9182, Validation Accuracy: 0.9151, Loss: 0.0847\n",
      "Epoch   7 Batch   20/134 - Train Accuracy: 0.9213, Validation Accuracy: 0.9243, Loss: 0.0793\n",
      "Epoch   7 Batch   30/134 - Train Accuracy: 0.9233, Validation Accuracy: 0.9217, Loss: 0.0761\n",
      "Epoch   7 Batch   40/134 - Train Accuracy: 0.9183, Validation Accuracy: 0.9213, Loss: 0.0780\n",
      "Epoch   7 Batch   50/134 - Train Accuracy: 0.9155, Validation Accuracy: 0.9211, Loss: 0.0793\n",
      "Epoch   7 Batch   60/134 - Train Accuracy: 0.9249, Validation Accuracy: 0.9278, Loss: 0.0729\n",
      "Epoch   7 Batch   70/134 - Train Accuracy: 0.9244, Validation Accuracy: 0.9269, Loss: 0.0725\n",
      "Epoch   7 Batch   80/134 - Train Accuracy: 0.9328, Validation Accuracy: 0.9272, Loss: 0.0692\n",
      "Epoch   7 Batch   90/134 - Train Accuracy: 0.9195, Validation Accuracy: 0.9327, Loss: 0.0804\n",
      "Epoch   7 Batch  100/134 - Train Accuracy: 0.9309, Validation Accuracy: 0.9242, Loss: 0.0732\n",
      "Epoch   7 Batch  110/134 - Train Accuracy: 0.9289, Validation Accuracy: 0.9292, Loss: 0.0651\n",
      "Epoch   7 Batch  120/134 - Train Accuracy: 0.9321, Validation Accuracy: 0.9290, Loss: 0.0687\n",
      "Epoch   7 Batch  130/134 - Train Accuracy: 0.9367, Validation Accuracy: 0.9331, Loss: 0.0611\n",
      "Epoch   8 Batch   10/134 - Train Accuracy: 0.9321, Validation Accuracy: 0.9380, Loss: 0.0609\n",
      "Epoch   8 Batch   20/134 - Train Accuracy: 0.9371, Validation Accuracy: 0.9347, Loss: 0.0537\n",
      "Epoch   8 Batch   30/134 - Train Accuracy: 0.9382, Validation Accuracy: 0.9399, Loss: 0.0535\n",
      "Epoch   8 Batch   40/134 - Train Accuracy: 0.9368, Validation Accuracy: 0.9344, Loss: 0.0530\n",
      "Epoch   8 Batch   50/134 - Train Accuracy: 0.9338, Validation Accuracy: 0.9349, Loss: 0.0517\n",
      "Epoch   8 Batch   60/134 - Train Accuracy: 0.9386, Validation Accuracy: 0.9399, Loss: 0.0481\n",
      "Epoch   8 Batch   70/134 - Train Accuracy: 0.9450, Validation Accuracy: 0.9401, Loss: 0.0482\n",
      "Epoch   8 Batch   80/134 - Train Accuracy: 0.9473, Validation Accuracy: 0.9363, Loss: 0.0456\n",
      "Epoch   8 Batch   90/134 - Train Accuracy: 0.9424, Validation Accuracy: 0.9453, Loss: 0.0493\n",
      "Epoch   8 Batch  100/134 - Train Accuracy: 0.9495, Validation Accuracy: 0.9390, Loss: 0.0463\n",
      "Epoch   8 Batch  110/134 - Train Accuracy: 0.9504, Validation Accuracy: 0.9428, Loss: 0.0410\n",
      "Epoch   8 Batch  120/134 - Train Accuracy: 0.9461, Validation Accuracy: 0.9423, Loss: 0.0435\n",
      "Epoch   8 Batch  130/134 - Train Accuracy: 0.9496, Validation Accuracy: 0.9461, Loss: 0.0375\n",
      "Epoch   9 Batch   10/134 - Train Accuracy: 0.9415, Validation Accuracy: 0.9478, Loss: 0.0397\n",
      "Epoch   9 Batch   20/134 - Train Accuracy: 0.9528, Validation Accuracy: 0.9500, Loss: 0.0353\n",
      "Epoch   9 Batch   30/134 - Train Accuracy: 0.9444, Validation Accuracy: 0.9474, Loss: 0.0391\n",
      "Epoch   9 Batch   40/134 - Train Accuracy: 0.9497, Validation Accuracy: 0.9505, Loss: 0.0373\n",
      "Epoch   9 Batch   50/134 - Train Accuracy: 0.9473, Validation Accuracy: 0.9460, Loss: 0.0377\n",
      "Epoch   9 Batch   60/134 - Train Accuracy: 0.9517, Validation Accuracy: 0.9511, Loss: 0.0342\n",
      "Epoch   9 Batch   70/134 - Train Accuracy: 0.9564, Validation Accuracy: 0.9466, Loss: 0.0346\n",
      "Epoch   9 Batch   80/134 - Train Accuracy: 0.9614, Validation Accuracy: 0.9524, Loss: 0.0335\n",
      "Epoch   9 Batch   90/134 - Train Accuracy: 0.9505, Validation Accuracy: 0.9549, Loss: 0.0363\n",
      "Epoch   9 Batch  100/134 - Train Accuracy: 0.9555, Validation Accuracy: 0.9477, Loss: 0.0341\n",
      "Epoch   9 Batch  110/134 - Train Accuracy: 0.9557, Validation Accuracy: 0.9494, Loss: 0.0312\n",
      "Epoch   9 Batch  120/134 - Train Accuracy: 0.9504, Validation Accuracy: 0.9506, Loss: 0.0353\n",
      "Epoch   9 Batch  130/134 - Train Accuracy: 0.9613, Validation Accuracy: 0.9585, Loss: 0.0293\n",
      "Epoch  10 Batch   10/134 - Train Accuracy: 0.9509, Validation Accuracy: 0.9541, Loss: 0.0312\n",
      "Epoch  10 Batch   20/134 - Train Accuracy: 0.9593, Validation Accuracy: 0.9513, Loss: 0.0293\n",
      "Epoch  10 Batch   30/134 - Train Accuracy: 0.9531, Validation Accuracy: 0.9563, Loss: 0.0316\n",
      "Epoch  10 Batch   40/134 - Train Accuracy: 0.9599, Validation Accuracy: 0.9600, Loss: 0.0286\n",
      "Epoch  10 Batch   50/134 - Train Accuracy: 0.9583, Validation Accuracy: 0.9585, Loss: 0.0303\n",
      "Epoch  10 Batch   60/134 - Train Accuracy: 0.9632, Validation Accuracy: 0.9572, Loss: 0.0283\n",
      "Epoch  10 Batch   70/134 - Train Accuracy: 0.9652, Validation Accuracy: 0.9576, Loss: 0.0284\n",
      "Epoch  10 Batch   80/134 - Train Accuracy: 0.9704, Validation Accuracy: 0.9595, Loss: 0.0274\n",
      "Epoch  10 Batch   90/134 - Train Accuracy: 0.9617, Validation Accuracy: 0.9647, Loss: 0.0295\n",
      "Epoch  10 Batch  100/134 - Train Accuracy: 0.9602, Validation Accuracy: 0.9581, Loss: 0.0283\n",
      "Epoch  10 Batch  110/134 - Train Accuracy: 0.9629, Validation Accuracy: 0.9618, Loss: 0.0249\n",
      "Epoch  10 Batch  120/134 - Train Accuracy: 0.9627, Validation Accuracy: 0.9624, Loss: 0.0274\n",
      "Epoch  10 Batch  130/134 - Train Accuracy: 0.9701, Validation Accuracy: 0.9654, Loss: 0.0238\n",
      "Epoch  11 Batch   10/134 - Train Accuracy: 0.9640, Validation Accuracy: 0.9633, Loss: 0.0261\n",
      "Epoch  11 Batch   20/134 - Train Accuracy: 0.9689, Validation Accuracy: 0.9613, Loss: 0.0226\n",
      "Epoch  11 Batch   30/134 - Train Accuracy: 0.9652, Validation Accuracy: 0.9628, Loss: 0.0259\n",
      "Epoch  11 Batch   40/134 - Train Accuracy: 0.9686, Validation Accuracy: 0.9620, Loss: 0.0244\n",
      "Epoch  11 Batch   50/134 - Train Accuracy: 0.9661, Validation Accuracy: 0.9654, Loss: 0.0262\n",
      "Epoch  11 Batch   60/134 - Train Accuracy: 0.9640, Validation Accuracy: 0.9691, Loss: 0.0237\n",
      "Epoch  11 Batch   70/134 - Train Accuracy: 0.9702, Validation Accuracy: 0.9663, Loss: 0.0239\n",
      "Epoch  11 Batch   80/134 - Train Accuracy: 0.9760, Validation Accuracy: 0.9676, Loss: 0.0221\n",
      "Epoch  11 Batch   90/134 - Train Accuracy: 0.9684, Validation Accuracy: 0.9704, Loss: 0.0241\n",
      "Epoch  11 Batch  100/134 - Train Accuracy: 0.9696, Validation Accuracy: 0.9665, Loss: 0.0231\n",
      "Epoch  11 Batch  110/134 - Train Accuracy: 0.9704, Validation Accuracy: 0.9672, Loss: 0.0208\n",
      "Epoch  11 Batch  120/134 - Train Accuracy: 0.9695, Validation Accuracy: 0.9699, Loss: 0.0233\n",
      "Epoch  11 Batch  130/134 - Train Accuracy: 0.9753, Validation Accuracy: 0.9738, Loss: 0.0199\n",
      "Epoch  12 Batch   10/134 - Train Accuracy: 0.9694, Validation Accuracy: 0.9675, Loss: 0.0212\n",
      "Epoch  12 Batch   20/134 - Train Accuracy: 0.9721, Validation Accuracy: 0.9643, Loss: 0.0190\n",
      "Epoch  12 Batch   30/134 - Train Accuracy: 0.9700, Validation Accuracy: 0.9729, Loss: 0.0227\n",
      "Epoch  12 Batch   40/134 - Train Accuracy: 0.9760, Validation Accuracy: 0.9683, Loss: 0.0195\n",
      "Epoch  12 Batch   50/134 - Train Accuracy: 0.9709, Validation Accuracy: 0.9686, Loss: 0.0215\n",
      "Epoch  12 Batch   60/134 - Train Accuracy: 0.9697, Validation Accuracy: 0.9720, Loss: 0.0202\n",
      "Epoch  12 Batch   70/134 - Train Accuracy: 0.9717, Validation Accuracy: 0.9697, Loss: 0.0214\n",
      "Epoch  12 Batch   80/134 - Train Accuracy: 0.9755, Validation Accuracy: 0.9725, Loss: 0.0203\n",
      "Epoch  12 Batch   90/134 - Train Accuracy: 0.9719, Validation Accuracy: 0.9761, Loss: 0.0215\n",
      "Epoch  12 Batch  100/134 - Train Accuracy: 0.9761, Validation Accuracy: 0.9747, Loss: 0.0195\n",
      "Epoch  12 Batch  110/134 - Train Accuracy: 0.9738, Validation Accuracy: 0.9726, Loss: 0.0180\n",
      "Epoch  12 Batch  120/134 - Train Accuracy: 0.9712, Validation Accuracy: 0.9754, Loss: 0.0193\n",
      "Epoch  12 Batch  130/134 - Train Accuracy: 0.9781, Validation Accuracy: 0.9759, Loss: 0.0170\n",
      "Epoch  13 Batch   10/134 - Train Accuracy: 0.9754, Validation Accuracy: 0.9733, Loss: 0.0185\n",
      "Epoch  13 Batch   20/134 - Train Accuracy: 0.9751, Validation Accuracy: 0.9671, Loss: 0.0164\n",
      "Epoch  13 Batch   30/134 - Train Accuracy: 0.9771, Validation Accuracy: 0.9757, Loss: 0.0196\n",
      "Epoch  13 Batch   40/134 - Train Accuracy: 0.9819, Validation Accuracy: 0.9770, Loss: 0.0191\n",
      "Epoch  13 Batch   50/134 - Train Accuracy: 0.9216, Validation Accuracy: 0.9299, Loss: 0.1215\n",
      "Epoch  13 Batch   60/134 - Train Accuracy: 0.9271, Validation Accuracy: 0.9163, Loss: 0.0990\n",
      "Epoch  13 Batch   70/134 - Train Accuracy: 0.9069, Validation Accuracy: 0.9051, Loss: 0.0947\n",
      "Epoch  13 Batch   80/134 - Train Accuracy: 0.9456, Validation Accuracy: 0.9395, Loss: 0.0681\n",
      "Epoch  13 Batch   90/134 - Train Accuracy: 0.9570, Validation Accuracy: 0.9560, Loss: 0.0430\n"
     ]
    },
    {
     "name": "stdout",
     "output_type": "stream",
     "text": [
      "Epoch  13 Batch  100/134 - Train Accuracy: 0.9642, Validation Accuracy: 0.9577, Loss: 0.0279\n",
      "Epoch  13 Batch  110/134 - Train Accuracy: 0.9643, Validation Accuracy: 0.9681, Loss: 0.0225\n",
      "Epoch  13 Batch  120/134 - Train Accuracy: 0.9675, Validation Accuracy: 0.9727, Loss: 0.0208\n",
      "Epoch  13 Batch  130/134 - Train Accuracy: 0.9702, Validation Accuracy: 0.9699, Loss: 0.0176\n",
      "Epoch  14 Batch   10/134 - Train Accuracy: 0.9753, Validation Accuracy: 0.9692, Loss: 0.0179\n",
      "Epoch  14 Batch   20/134 - Train Accuracy: 0.9720, Validation Accuracy: 0.9748, Loss: 0.0154\n",
      "Epoch  14 Batch   30/134 - Train Accuracy: 0.9710, Validation Accuracy: 0.9751, Loss: 0.0187\n",
      "Epoch  14 Batch   40/134 - Train Accuracy: 0.9815, Validation Accuracy: 0.9766, Loss: 0.0139\n",
      "Epoch  14 Batch   50/134 - Train Accuracy: 0.9735, Validation Accuracy: 0.9783, Loss: 0.0165\n",
      "Epoch  14 Batch   60/134 - Train Accuracy: 0.9731, Validation Accuracy: 0.9732, Loss: 0.0151\n",
      "Epoch  14 Batch   70/134 - Train Accuracy: 0.9765, Validation Accuracy: 0.9751, Loss: 0.0159\n",
      "Epoch  14 Batch   80/134 - Train Accuracy: 0.9815, Validation Accuracy: 0.9806, Loss: 0.0146\n",
      "Epoch  14 Batch   90/134 - Train Accuracy: 0.9794, Validation Accuracy: 0.9797, Loss: 0.0151\n",
      "Epoch  14 Batch  100/134 - Train Accuracy: 0.9834, Validation Accuracy: 0.9758, Loss: 0.0141\n",
      "Epoch  14 Batch  110/134 - Train Accuracy: 0.9784, Validation Accuracy: 0.9785, Loss: 0.0131\n",
      "Epoch  14 Batch  120/134 - Train Accuracy: 0.9788, Validation Accuracy: 0.9784, Loss: 0.0148\n",
      "Epoch  14 Batch  130/134 - Train Accuracy: 0.9846, Validation Accuracy: 0.9790, Loss: 0.0130\n",
      "Model Trained and Saved\n"
     ]
    }
   ],
   "source": [
    "loss_list = list()\n",
    "valid_acc_list = list()\n",
    "\"\"\"\n",
    "DON'T MODIFY ANYTHING IN THIS CELL\n",
    "\"\"\"\n",
    "def get_accuracy(target, logits):\n",
    "    \"\"\"\n",
    "    Calculate accuracy\n",
    "    \"\"\"\n",
    "    max_seq = max(target.shape[1], logits.shape[1])\n",
    "    if max_seq - target.shape[1]:\n",
    "        target = np.pad(\n",
    "            target,\n",
    "            [(0,0),(0,max_seq - target.shape[1])],\n",
    "            'constant')\n",
    "    if max_seq - logits.shape[1]:\n",
    "        logits = np.pad(\n",
    "            logits,\n",
    "            [(0,0),(0,max_seq - logits.shape[1])],\n",
    "            'constant')\n",
    "\n",
    "    return np.mean(np.equal(target, logits))\n",
    "\n",
    "# Split data to training and validation sets\n",
    "train_source = source_int_text[batch_size:]\n",
    "train_target = target_int_text[batch_size:]\n",
    "valid_source = source_int_text[:batch_size]\n",
    "valid_target = target_int_text[:batch_size]\n",
    "(valid_sources_batch, valid_targets_batch, valid_sources_lengths, valid_targets_lengths ) = next(get_batches(valid_source,\n",
    "                                                                                                             valid_target,\n",
    "                                                                                                             batch_size,\n",
    "                                                                                                             source_vocab_to_int['<PAD>'],\n",
    "                                                                                                             target_vocab_to_int['<PAD>']))                                                                                                  \n",
    "with tf.Session(graph=train_graph) as sess:\n",
    "    sess.run(tf.global_variables_initializer())\n",
    "\n",
    "    for epoch_i in range(epochs):\n",
    "        for batch_i, (source_batch, target_batch, sources_lengths, targets_lengths) in enumerate(\n",
    "                get_batches(train_source, train_target, batch_size,\n",
    "                            source_vocab_to_int['<PAD>'],\n",
    "                            target_vocab_to_int['<PAD>'])):\n",
    "\n",
    "            _, loss = sess.run(\n",
    "                [train_op, cost],\n",
    "                {input_data: source_batch,\n",
    "                 targets: target_batch,\n",
    "                 lr: learning_rate,\n",
    "                 target_sequence_length: targets_lengths,\n",
    "                 source_sequence_length: sources_lengths,\n",
    "                 keep_prob: keep_probability})\n",
    "\n",
    "\n",
    "            if batch_i % display_step == 0 and batch_i > 0:\n",
    "\n",
    "\n",
    "                batch_train_logits = sess.run(\n",
    "                    inference_logits,\n",
    "                    {input_data: source_batch,\n",
    "                     source_sequence_length: sources_lengths,\n",
    "                     target_sequence_length: targets_lengths,\n",
    "                     keep_prob: 1.0})\n",
    "\n",
    "\n",
    "                batch_valid_logits = sess.run(\n",
    "                    inference_logits,\n",
    "                    {input_data: valid_sources_batch,\n",
    "                     source_sequence_length: valid_sources_lengths,\n",
    "                     target_sequence_length: valid_targets_lengths,\n",
    "                     keep_prob: 1.0})\n",
    "\n",
    "                train_acc = get_accuracy(target_batch, batch_train_logits)\n",
    "\n",
    "                valid_acc = get_accuracy(valid_targets_batch, batch_valid_logits)\n",
    "\n",
    "                print('Epoch {:>3} Batch {:>4}/{} - Train Accuracy: {:>6.4f}, Validation Accuracy: {:>6.4f}, Loss: {:>6.4f}'\n",
    "                      .format(epoch_i, batch_i, len(source_int_text) // batch_size, train_acc, valid_acc, loss))\n",
    "                valid_acc_list.append(valid_acc)\n",
    "                loss_list.append(loss)\n",
    "    # Save Model\n",
    "    saver = tf.train.Saver()\n",
    "    saver.save(sess, save_path)\n",
    "    print('Model Trained and Saved')"
   ]
  },
  {
   "cell_type": "markdown",
   "metadata": {},
   "source": [
    "### Save Parameters\n",
    "Save the `batch_size` and `save_path` parameters for inference."
   ]
  },
  {
   "cell_type": "code",
   "execution_count": 18,
   "metadata": {
    "collapsed": true
   },
   "outputs": [],
   "source": [
    "\"\"\"\n",
    "DON'T MODIFY ANYTHING IN THIS CELL\n",
    "\"\"\"\n",
    "# Save parameters for checkpoint\n",
    "helper.save_params(save_path)"
   ]
  },
  {
   "cell_type": "code",
   "execution_count": 19,
   "metadata": {},
   "outputs": [
    {
     "data": {
      "image/png": "[encoded data removed]",
      "text/plain": [
       "<matplotlib.figure.Figure at 0x7f1441fd1780>"
      ]
     },
     "metadata": {},
     "output_type": "display_data"
    }
   ],
   "source": [
    "# visualize the validation and test accuracy\n",
    "# Visualize the training loss and validation accuracy\n",
    "import matplotlib.pyplot as plt\n",
    "f, (training_loss_x1, val_acc_x2) = plt.subplots(1, 2, figsize=(18, 6))\n",
    "training_loss_x1.plot(loss_list, color='red')\n",
    "training_loss_x1.set_title('Traning Loss')\n",
    "training_loss_x1.set_xlabel('Iterations')\n",
    "training_loss_x1.set_ylabel('Loss value')\n",
    "val_acc_x2.plot(valid_acc_list)\n",
    "val_acc_x2.set_xlabel('Iterations')\n",
    "val_acc_x2.set_ylabel('Accuracy')\n",
    "val_acc_x2.set_title('Validation Accuracy')\n",
    "plt.show()"
   ]
  },
  {
   "cell_type": "markdown",
   "metadata": {},
   "source": [
    "# Checkpoint"
   ]
  },
  {
   "cell_type": "code",
   "execution_count": 20,
   "metadata": {
    "collapsed": true
   },
   "outputs": [],
   "source": [
    "\"\"\"\n",
    "DON'T MODIFY ANYTHING IN THIS CELL\n",
    "\"\"\"\n",
    "import tensorflow as tf\n",
    "import numpy as np\n",
    "import helper\n",
    "import problem_unittests as tests\n",
    "\n",
    "_, (source_vocab_to_int, target_vocab_to_int), (source_int_to_vocab, target_int_to_vocab) = helper.load_preprocess()\n",
    "load_path = helper.load_params()"
   ]
  },
  {
   "cell_type": "markdown",
   "metadata": {},
   "source": [
    "## Sentence to Sequence\n",
    "To feed a sentence into the model for translation, you first need to preprocess it.  Implement the function `sentence_to_seq()` to preprocess new sentences.\n",
    "\n",
    "- Convert the sentence to lowercase\n",
    "- Convert words into ids using `vocab_to_int`\n",
    " - Convert words not in the vocabulary, to the `<UNK>` word id."
   ]
  },
  {
   "cell_type": "code",
   "execution_count": 21,
   "metadata": {},
   "outputs": [
    {
     "name": "stdout",
     "output_type": "stream",
     "text": [
      "this is a test sentence\n",
      "Tests Passed\n"
     ]
    }
   ],
   "source": [
    "def sentence_to_seq(sentence, vocab_to_int):\n",
    "    \"\"\"\n",
    "    Convert a sentence to a sequence of ids\n",
    "    :param sentence: String\n",
    "    :param vocab_to_int: Dictionary to go from the words to an id\n",
    "    :return: List of word ids\n",
    "    \"\"\"\n",
    "    list_of_word_ids = list()\n",
    "    \n",
    "    # convert sentence to lowercase\n",
    "    lower_case_sentence = sentence.lower()\n",
    "    print(lower_case_sentence)\n",
    "    \n",
    "    # convert words into ids using vocab_to_int\n",
    "    for word in lower_case_sentence.split():\n",
    "        if word in vocab_to_int.keys():\n",
    "            list_of_word_ids.append(vocab_to_int[word])\n",
    "        else:\n",
    "            list_of_word_ids.append(vocab_to_int['<UNK>'])\n",
    "    return (list_of_word_ids)\n",
    "                                \n",
    "\"\"\"\n",
    "DON'T MODIFY ANYTHING IN THIS CELL THAT IS BELOW THIS LINE\n",
    "\"\"\"\n",
    "tests.test_sentence_to_seq(sentence_to_seq)"
   ]
  },
  {
   "cell_type": "markdown",
   "metadata": {},
   "source": [
    "## Translate\n",
    "This will translate `translate_sentence` from English to French."
   ]
  },
  {
   "cell_type": "code",
   "execution_count": 22,
   "metadata": {},
   "outputs": [
    {
     "name": "stdout",
     "output_type": "stream",
     "text": [
      "he saw a old yellow truck .\n",
      "INFO:tensorflow:Restoring parameters from checkpoints/dev\n",
      "Input\n",
      "  Word Ids:      [74, 188, 180, 130, 14, 47, 147]\n",
      "  English Words: ['he', 'saw', 'a', 'old', 'yellow', 'truck', '.']\n",
      "\n",
      "Prediction\n",
      "  Word Ids:      [71, 78, 122, 202, 144, 108, 59, 1]\n",
      "  French Words: il a vu une bleu brillant . <EOS>\n"
     ]
    }
   ],
   "source": [
    "translate_sentence = 'he saw a old yellow truck .'\n",
    "\n",
    "\n",
    "\"\"\"\n",
    "DON'T MODIFY ANYTHING IN THIS CELL\n",
    "\"\"\"\n",
    "translate_sentence = sentence_to_seq(translate_sentence, source_vocab_to_int)\n",
    "\n",
    "loaded_graph = tf.Graph()\n",
    "with tf.Session(graph=loaded_graph) as sess:\n",
    "    # Load saved model\n",
    "    loader = tf.train.import_meta_graph(load_path + '.meta')\n",
    "    loader.restore(sess, load_path)\n",
    "\n",
    "    input_data = loaded_graph.get_tensor_by_name('input:0')\n",
    "    logits = loaded_graph.get_tensor_by_name('predictions:0')\n",
    "    target_sequence_length = loaded_graph.get_tensor_by_name('target_sequence_length:0')\n",
    "    source_sequence_length = loaded_graph.get_tensor_by_name('source_sequence_length:0')\n",
    "    keep_prob = loaded_graph.get_tensor_by_name('keep_prob:0')\n",
    "\n",
    "    translate_logits = sess.run(logits, {input_data: [translate_sentence]*batch_size,\n",
    "                                         target_sequence_length: [len(translate_sentence)*2]*batch_size,\n",
    "                                         source_sequence_length: [len(translate_sentence)]*batch_size,\n",
    "                                         keep_prob: 1.0})[0]\n",
    "\n",
    "print('Input')\n",
    "print('  Word Ids:      {}'.format([i for i in translate_sentence]))\n",
    "print('  English Words: {}'.format([source_int_to_vocab[i] for i in translate_sentence]))\n",
    "\n",
    "print('\\nPrediction')\n",
    "print('  Word Ids:      {}'.format([i for i in translate_logits]))\n",
    "print('  French Words: {}'.format(\" \".join([target_int_to_vocab[i] for i in translate_logits])))\n"
   ]
  },
  {
   "cell_type": "markdown",
   "metadata": {},
   "source": [
    "## Imperfect Translation\n",
    "You might notice that some sentences translate better than others.  Since the dataset you're using only has a vocabulary of 227 English words of the thousands that you use, you're only going to see good results using these words.  For this project, you don't need a perfect translation. However, if you want to create a better translation model, you'll need better data.\n",
    "\n",
    "You can train on the [WMT10 French-English corpus](http://www.statmt.org/wmt10/training-giga-fren.tar).  This dataset has more vocabulary and richer in topics discussed.  However, this will take you days to train, so make sure you've a GPU and the neural network is performing well on dataset we provided.  Just make sure you play with the WMT10 corpus after you've submitted this project.\n",
    "## Submitting This Project\n",
    "When submitting this project, make sure to run all the cells before saving the notebook. Save the notebook file as \"dlnd_language_translation.ipynb\" and save it as a HTML file under \"File\" -> \"Download as\". Include the \"helper.py\" and \"problem_unittests.py\" files in your submission."
   ]
  }
 ],
 "metadata": {
  "anaconda-cloud": {},
  "kernelspec": {
   "display_name": "Python 3",
   "language": "python",
   "name": "python3"
  },
  "language_info": {
   "codemirror_mode": {
    "name": "ipython",
    "version": 3
   },
   "file_extension": ".py",
   "mimetype": "text/x-python",
   "name": "python",
   "nbconvert_exporter": "python",
   "pygments_lexer": "ipython3",
   "version": "3.6.1"
  }
 },
 "nbformat": 4,
 "nbformat_minor": 1
}
