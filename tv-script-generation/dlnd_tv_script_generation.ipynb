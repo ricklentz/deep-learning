{
 "cells": [
  {
   "cell_type": "markdown",
   "metadata": {},
   "source": [
    "# TV Script Generation\n",
    "In this project, you'll generate your own [Simpsons](https://en.wikipedia.org/wiki/The_Simpsons) TV scripts using RNNs.  You'll be using part of the [Simpsons dataset](https://www.kaggle.com/wcukierski/the-simpsons-by-the-data) of scripts from 27 seasons.  The Neural Network you'll build will generate a new TV script for a scene at [Moe's Tavern](https://simpsonswiki.com/wiki/Moe's_Tavern).\n",
    "## Get the Data\n",
    "The data is already provided for you.  You'll be using a subset of the original dataset.  It consists of only the scenes in Moe's Tavern.  This doesn't include other versions of the tavern, like \"Moe's Cavern\", \"Flaming Moe's\", \"Uncle Moe's Family Feed-Bag\", etc.."
   ]
  },
  {
   "cell_type": "code",
   "execution_count": 1,
   "metadata": {
    "collapsed": true
   },
   "outputs": [],
   "source": [
    "\"\"\"\n",
    "DON'T MODIFY ANYTHING IN THIS CELL\n",
    "\"\"\"\n",
    "import helper\n",
    "\n",
    "data_dir = './data/simpsons/moes_tavern_lines.txt'\n",
    "text = helper.load_data(data_dir)\n",
    "# Ignore notice, since we don't use it for analysing the data\n",
    "text = text[81:]"
   ]
  },
  {
   "cell_type": "markdown",
   "metadata": {},
   "source": [
    "## Explore the Data\n",
    "Play around with `view_sentence_range` to view different parts of the data."
   ]
  },
  {
   "cell_type": "code",
   "execution_count": 2,
   "metadata": {},
   "outputs": [
    {
     "name": "stdout",
     "output_type": "stream",
     "text": [
      "Dataset Stats\n",
      "Roughly the number of unique words: 11492\n",
      "Number of scenes: 262\n",
      "Average number of sentences in each scene: 15.248091603053435\n",
      "Number of lines: 4257\n",
      "Average number of words in each line: 11.50434578341555\n",
      "\n",
      "The sentences 0 to 10:\n",
      "Moe_Szyslak: (INTO PHONE) Moe's Tavern. Where the elite meet to drink.\n",
      "Bart_Simpson: Eh, yeah, hello, is Mike there? Last name, Rotch.\n",
      "Moe_Szyslak: (INTO PHONE) Hold on, I'll check. (TO BARFLIES) Mike Rotch. Mike Rotch. Hey, has anybody seen Mike Rotch, lately?\n",
      "Moe_Szyslak: (INTO PHONE) Listen you little puke. One of these days I'm gonna catch you, and I'm gonna carve my name on your back with an ice pick.\n",
      "Moe_Szyslak: What's the matter Homer? You're not your normal effervescent self.\n",
      "Homer_Simpson: I got my problems, Moe. Give me another one.\n",
      "Moe_Szyslak: Homer, hey, you should not drink to forget your problems.\n",
      "Barney_Gumble: Yeah, you should only drink to enhance your social skills.\n",
      "\n",
      "\n"
     ]
    }
   ],
   "source": [
    "view_sentence_range = (0, 10)\n",
    "\n",
    "\"\"\"\n",
    "DON'T MODIFY ANYTHING IN THIS CELL\n",
    "\"\"\"\n",
    "import numpy as np\n",
    "\n",
    "print('Dataset Stats')\n",
    "print('Roughly the number of unique words: {}'.format(len({word: None for word in text.split()})))\n",
    "scenes = text.split('\\n\\n')\n",
    "print('Number of scenes: {}'.format(len(scenes)))\n",
    "sentence_count_scene = [scene.count('\\n') for scene in scenes]\n",
    "print('Average number of sentences in each scene: {}'.format(np.average(sentence_count_scene)))\n",
    "\n",
    "sentences = [sentence for scene in scenes for sentence in scene.split('\\n')]\n",
    "print('Number of lines: {}'.format(len(sentences)))\n",
    "word_count_sentence = [len(sentence.split()) for sentence in sentences]\n",
    "print('Average number of words in each line: {}'.format(np.average(word_count_sentence)))\n",
    "\n",
    "print()\n",
    "print('The sentences {} to {}:'.format(*view_sentence_range))\n",
    "print('\\n'.join(text.split('\\n')[view_sentence_range[0]:view_sentence_range[1]]))"
   ]
  },
  {
   "cell_type": "markdown",
   "metadata": {},
   "source": [
    "## Implement Preprocessing Functions\n",
    "The first thing to do to any dataset is preprocessing.  Implement the following preprocessing functions below:\n",
    "- Lookup Table\n",
    "- Tokenize Punctuation\n",
    "\n",
    "### Lookup Table\n",
    "To create a word embedding, you first need to transform the words to ids.  In this function, create two dictionaries:\n",
    "- Dictionary to go from the words to an id, we'll call `vocab_to_int`\n",
    "- Dictionary to go from the id to word, we'll call `int_to_vocab`\n",
    "\n",
    "Return these dictionaries in the following tuple `(vocab_to_int, int_to_vocab)`"
   ]
  },
  {
   "cell_type": "code",
   "execution_count": 3,
   "metadata": {},
   "outputs": [
    {
     "name": "stdout",
     "output_type": "stream",
     "text": [
      "Tests Passed\n"
     ]
    }
   ],
   "source": [
    "import numpy as np\n",
    "import problem_unittests as tests\n",
    "\n",
    "def create_lookup_tables(text):\n",
    "    \"\"\"\n",
    "    Create lookup tables for vocabulary\n",
    "    :param text: The text of tv scripts split into words\n",
    "    :return: A tuple of dicts (vocab_to_int, int_to_vocab)\n",
    "    \"\"\"\n",
    "    # create a set of distinct words\n",
    "    distinct_words = set(text)\n",
    "    \n",
    "    # create the distinct word index\n",
    "    #index = range(len(distinct_words))\n",
    "    #vocab_to_int = {dict(zip(distinct_words,index))}\n",
    "    #int_to_vocab = dict(zip(index,distinct_words))\n",
    "    \n",
    "    vocab_to_int = {word : idx for idx,word in enumerate(distinct_words)}\n",
    "    int_to_vocab = {idx : word  for idx,word in enumerate(distinct_words)}\n",
    "    \n",
    "    return (vocab_to_int, int_to_vocab)\n",
    "\n",
    "\n",
    "\"\"\"\n",
    "DON'T MODIFY ANYTHING IN THIS CELL THAT IS BELOW THIS LINE\n",
    "\"\"\"\n",
    "tests.test_create_lookup_tables(create_lookup_tables)"
   ]
  },
  {
   "cell_type": "markdown",
   "metadata": {},
   "source": [
    "### Tokenize Punctuation\n",
    "We'll be splitting the script into a word array using spaces as delimiters.  However, punctuations like periods and exclamation marks make it hard for the neural network to distinguish between the word \"bye\" and \"bye!\".\n",
    "\n",
    "Implement the function `token_lookup` to return a dict that will be used to tokenize symbols like \"!\" into \"||Exclamation_Mark||\".  Create a dictionary for the following symbols where the symbol is the key and value is the token:\n",
    "- Period ( . )\n",
    "- Comma ( , )\n",
    "- Quotation Mark ( \" )\n",
    "- Semicolon ( ; )\n",
    "- Exclamation mark ( ! )\n",
    "- Question mark ( ? )\n",
    "- Left Parentheses ( ( )\n",
    "- Right Parentheses ( ) )\n",
    "- Dash ( -- )\n",
    "- Return ( \\n )\n",
    "\n",
    "This dictionary will be used to token the symbols and add the delimiter (space) around it.  This separates the symbols as it's own word, making it easier for the neural network to predict on the next word. Make sure you don't use a token that could be confused as a word. Instead of using the token \"dash\", try using something like \"||dash||\"."
   ]
  },
  {
   "cell_type": "code",
   "execution_count": 4,
   "metadata": {},
   "outputs": [
    {
     "name": "stdout",
     "output_type": "stream",
     "text": [
      "Tests Passed\n"
     ]
    }
   ],
   "source": [
    "def token_lookup():\n",
    "    \"\"\"\n",
    "    Generate a dict to turn punctuation into a token.\n",
    "    :return: Tokenize dictionary where the key is the punctuation and the value is the token\n",
    "    \"\"\"\n",
    "    return { '.':'||Period||',\n",
    "            ',':'||Comma||',\n",
    "            '\"':'||QuotationMark||',\n",
    "            ';':'||Semicolon||',\n",
    "            '!':'||Exclamationmark||',\n",
    "            '?':'||Questionmark||',\n",
    "            '(':'||LeftParentheses||',\n",
    "            ')':'||RightParentheses||',\n",
    "            '--':'||Dash||',\n",
    "            '\\n':'||Return||'}\n",
    "\n",
    "\n",
    "\"\"\"\n",
    "DON'T MODIFY ANYTHING IN THIS CELL THAT IS BELOW THIS LINE\n",
    "\"\"\"\n",
    "tests.test_tokenize(token_lookup)"
   ]
  },
  {
   "cell_type": "markdown",
   "metadata": {},
   "source": [
    "## Preprocess all the data and save it\n",
    "Running the code cell below will preprocess all the data and save it to file."
   ]
  },
  {
   "cell_type": "code",
   "execution_count": 5,
   "metadata": {
    "collapsed": true
   },
   "outputs": [],
   "source": [
    "\"\"\"\n",
    "DON'T MODIFY ANYTHING IN THIS CELL\n",
    "\"\"\"\n",
    "# Preprocess Training, Validation, and Testing Data\n",
    "helper.preprocess_and_save_data(data_dir, token_lookup, create_lookup_tables)"
   ]
  },
  {
   "cell_type": "markdown",
   "metadata": {},
   "source": [
    "# Check Point\n",
    "This is your first checkpoint. If you ever decide to come back to this notebook or have to restart the notebook, you can start from here. The preprocessed data has been saved to disk."
   ]
  },
  {
   "cell_type": "code",
   "execution_count": 6,
   "metadata": {
    "collapsed": true
   },
   "outputs": [],
   "source": [
    "\"\"\"\n",
    "DON'T MODIFY ANYTHING IN THIS CELL\n",
    "\"\"\"\n",
    "import helper\n",
    "import numpy as np\n",
    "import problem_unittests as tests\n",
    "\n",
    "int_text, vocab_to_int, int_to_vocab, token_dict = helper.load_preprocess()"
   ]
  },
  {
   "cell_type": "markdown",
   "metadata": {},
   "source": [
    "## Build the Neural Network\n",
    "You'll build the components necessary to build a RNN by implementing the following functions below:\n",
    "- get_inputs\n",
    "- get_init_cell\n",
    "- get_embed\n",
    "- build_rnn\n",
    "- build_nn\n",
    "- get_batches\n",
    "\n",
    "### Check the Version of TensorFlow and Access to GPU"
   ]
  },
  {
   "cell_type": "code",
   "execution_count": 7,
   "metadata": {},
   "outputs": [
    {
     "name": "stdout",
     "output_type": "stream",
     "text": [
      "TensorFlow Version: 1.0.0\n",
      "Default GPU Device: /gpu:0\n"
     ]
    }
   ],
   "source": [
    "\"\"\"\n",
    "DON'T MODIFY ANYTHING IN THIS CELL\n",
    "\"\"\"\n",
    "from distutils.version import LooseVersion\n",
    "import warnings\n",
    "import tensorflow as tf\n",
    "\n",
    "# Check TensorFlow Version\n",
    "assert LooseVersion(tf.__version__) >= LooseVersion('1.0'), 'Please use TensorFlow version 1.0 or newer'\n",
    "print('TensorFlow Version: {}'.format(tf.__version__))\n",
    "\n",
    "# Check for a GPU\n",
    "if not tf.test.gpu_device_name():\n",
    "    warnings.warn('No GPU found. Please use a GPU to train your neural network.')\n",
    "else:\n",
    "    print('Default GPU Device: {}'.format(tf.test.gpu_device_name()))"
   ]
  },
  {
   "cell_type": "code",
   "execution_count": 8,
   "metadata": {
    "collapsed": true
   },
   "outputs": [],
   "source": [
    "# I had to downgrade the cloud gpu node using, pip install -U tensorflow-gpu==1.0"
   ]
  },
  {
   "cell_type": "markdown",
   "metadata": {},
   "source": [
    "### Input\n",
    "Implement the `get_inputs()` function to create TF Placeholders for the Neural Network.  It should create the following placeholders:\n",
    "- Input text placeholder named \"input\" using the [TF Placeholder](https://www.tensorflow.org/api_docs/python/tf/placeholder) `name` parameter.\n",
    "- Targets placeholder\n",
    "- Learning Rate placeholder\n",
    "\n",
    "Return the placeholders in the following tuple `(Input, Targets, LearningRate)`"
   ]
  },
  {
   "cell_type": "code",
   "execution_count": 8,
   "metadata": {},
   "outputs": [
    {
     "name": "stdout",
     "output_type": "stream",
     "text": [
      "Tests Passed\n"
     ]
    }
   ],
   "source": [
    "def get_inputs():\n",
    "    \"\"\"\n",
    "    Create TF Placeholders for input, targets, and learning rate.\n",
    "    :return: Tuple (input, targets, learning rate)\n",
    "    \"\"\"\n",
    "    \n",
    "    input_ph = tf.placeholder(dtype=tf.int32, shape=(None,None),name=\"input\")\n",
    "    targets_ph = tf.placeholder(dtype=tf.int32, shape=(None,None))\n",
    "    learning_rate_ph = tf.placeholder(dtype=tf.float32, shape=None)\n",
    "    return input_ph, targets_ph, learning_rate_ph\n",
    "\n",
    "\n",
    "\"\"\"\n",
    "DON'T MODIFY ANYTHING IN THIS CELL THAT IS BELOW THIS LINE\n",
    "\"\"\"\n",
    "tests.test_get_inputs(get_inputs)"
   ]
  },
  {
   "cell_type": "markdown",
   "metadata": {},
   "source": [
    "### Build RNN Cell and Initialize\n",
    "Stack one or more [`BasicLSTMCells`](https://www.tensorflow.org/api_docs/python/tf/contrib/rnn/BasicLSTMCell) in a [`MultiRNNCell`](https://www.tensorflow.org/api_docs/python/tf/contrib/rnn/MultiRNNCell).\n",
    "- The Rnn size should be set using `rnn_size`\n",
    "- Initalize Cell State using the MultiRNNCell's [`zero_state()`](https://www.tensorflow.org/api_docs/python/tf/contrib/rnn/MultiRNNCell#zero_state) function\n",
    "    - Apply the name \"initial_state\" to the initial state using [`tf.identity()`](https://www.tensorflow.org/api_docs/python/tf/identity)\n",
    "\n",
    "Return the cell and initial state in the following tuple `(Cell, InitialState)`"
   ]
  },
  {
   "cell_type": "code",
   "execution_count": 9,
   "metadata": {},
   "outputs": [
    {
     "name": "stdout",
     "output_type": "stream",
     "text": [
      "[5, 2, None, 256]\n",
      "Tests Passed\n"
     ]
    }
   ],
   "source": [
    "\n",
    "\n",
    "def get_init_cell(batch_size, rnn_size):\n",
    "    \"\"\"\n",
    "    Create an RNN Cell and initialize it.\n",
    "    :param batch_size: Size of batches\n",
    "    :param rnn_size: Size of RNNs\n",
    "    :return: Tuple (cell, initialize state)\n",
    "    \"\"\"\n",
    "    # create a basic LSTMs and set size using rnn_size\n",
    "    basic_lstm_cell_1 = tf.contrib.rnn.BasicLSTMCell(rnn_size)\n",
    "    basic_lstm_cell_2 = tf.contrib.rnn.BasicLSTMCell(rnn_size)\n",
    "    basic_lstm_cell_3 = tf.contrib.rnn.BasicLSTMCell(rnn_size)\n",
    "    basic_lstm_cell_4 = tf.contrib.rnn.BasicLSTMCell(rnn_size)\n",
    "    basic_lstm_cell_5 = tf.contrib.rnn.BasicLSTMCell(rnn_size)\n",
    "    \n",
    "    # stack the cells\n",
    "    cell = tf.contrib.rnn.MultiRNNCell(cells=[basic_lstm_cell_1,basic_lstm_cell_2,basic_lstm_cell_3,basic_lstm_cell_4,basic_lstm_cell_5])\n",
    "    \n",
    "    # initialize cell using zero_state()\n",
    "    initialized_cell = cell.zero_state(batch_size=batch_size,dtype=tf.float32)\n",
    "    \n",
    "    # name the initialized multirnn cells\n",
    "    initialize_state = tf.identity(initialized_cell,name=\"initial_state\")\n",
    "    \n",
    "    print(initialize_state.get_shape().as_list())\n",
    "    #assert final_state.get_shape().as_list() == [test_rnn_layer_size, 2, None, test_rnn_size], \\\n",
    "    return (cell, initialize_state)\n",
    "    \n",
    "\n",
    "\"\"\"\n",
    "DON'T MODIFY ANYTHING IN THIS CELL THAT IS BELOW THIS LINE\n",
    "\"\"\"\n",
    "tests.test_get_init_cell(get_init_cell)"
   ]
  },
  {
   "cell_type": "markdown",
   "metadata": {},
   "source": [
    "### Word Embedding\n",
    "Apply embedding to `input_data` using TensorFlow.  Return the embedded sequence."
   ]
  },
  {
   "cell_type": "code",
   "execution_count": 10,
   "metadata": {},
   "outputs": [
    {
     "name": "stdout",
     "output_type": "stream",
     "text": [
      "Tests Passed\n"
     ]
    }
   ],
   "source": [
    "def get_embed(input_data, vocab_size, embed_dim):\n",
    "    \"\"\"\n",
    "    Create embedding for <input_data>.\n",
    "    :param input_data: TF placeholder for text input.\n",
    "    :param vocab_size: Number of words in vocabulary.\n",
    "    :param embed_dim: Number of embedding dimensions\n",
    "    :return: Embedded input.\n",
    "    \"\"\"\n",
    "    embed_variable = tf.Variable(tf.random_uniform(shape=(vocab_size, embed_dim),\n",
    "                                                   minval=-1, \n",
    "                                                   maxval=1))\n",
    "    embedded_input = tf.nn.embedding_lookup(params=embed_variable,ids=input_data)\n",
    "    \n",
    "    return embedded_input\n",
    "\n",
    "\n",
    "\"\"\"\n",
    "DON'T MODIFY ANYTHING IN THIS CELL THAT IS BELOW THIS LINE\n",
    "\"\"\"\n",
    "tests.test_get_embed(get_embed)"
   ]
  },
  {
   "cell_type": "markdown",
   "metadata": {},
   "source": [
    "### Build RNN\n",
    "You created a RNN Cell in the `get_init_cell()` function.  Time to use the cell to create a RNN.\n",
    "- Build the RNN using the [`tf.nn.dynamic_rnn()`](https://www.tensorflow.org/api_docs/python/tf/nn/dynamic_rnn)\n",
    " - Apply the name \"final_state\" to the final state using [`tf.identity()`](https://www.tensorflow.org/api_docs/python/tf/identity)\n",
    "\n",
    "Return the outputs and final_state state in the following tuple `(Outputs, FinalState)` "
   ]
  },
  {
   "cell_type": "code",
   "execution_count": 11,
   "metadata": {},
   "outputs": [
    {
     "name": "stdout",
     "output_type": "stream",
     "text": [
      "Tests Passed\n"
     ]
    }
   ],
   "source": [
    "def build_rnn(cell, inputs):\n",
    "    \"\"\"\n",
    "    Create a RNN using a RNN Cell\n",
    "    :param cell: RNN Cell\n",
    "    :param inputs: Input text data\n",
    "    :return: Tuple (Outputs, Final State)\n",
    "    \"\"\"\n",
    "    \n",
    "    # generate a rnn using dynamic_rnn\n",
    "    outputs, state = tf.nn.dynamic_rnn(cell=cell, \n",
    "                                inputs=inputs, \n",
    "                                dtype=tf.float32)\n",
    "    # add the name\n",
    "    final_state = tf.identity(input=state, \n",
    "                              name=\"final_state\")\n",
    "    \n",
    "    return (outputs, final_state)\n",
    "\n",
    "\n",
    "\"\"\"\n",
    "DON'T MODIFY ANYTHING IN THIS CELL THAT IS BELOW THIS LINE\n",
    "\"\"\"\n",
    "tests.test_build_rnn(build_rnn)"
   ]
  },
  {
   "cell_type": "markdown",
   "metadata": {},
   "source": [
    "### Build the Neural Network\n",
    "Apply the functions you implemented above to:\n",
    "- Apply embedding to `input_data` using your `get_embed(input_data, vocab_size, embed_dim)` function.\n",
    "- Build RNN using `cell` and your `build_rnn(cell, inputs)` function.\n",
    "- Apply a fully connected layer with a linear activation and `vocab_size` as the number of outputs.\n",
    "\n",
    "Return the logits and final state in the following tuple (Logits, FinalState) "
   ]
  },
  {
   "cell_type": "code",
   "execution_count": 12,
   "metadata": {},
   "outputs": [
    {
     "name": "stdout",
     "output_type": "stream",
     "text": [
      "Tests Passed\n"
     ]
    }
   ],
   "source": [
    "def build_nn(cell, rnn_size, input_data, vocab_size, embed_dim):\n",
    "    \"\"\"\n",
    "    Build part of the neural network\n",
    "    :param cell: RNN cell\n",
    "    :param rnn_size: Size of rnns\n",
    "    :param input_data: Input data\n",
    "    :param vocab_size: Vocabulary size\n",
    "    :param embed_dim: Number of embedding dimensions\n",
    "    :return: Tuple (Logits, FinalState)\n",
    "    \"\"\"\n",
    "\n",
    "    # apply the embedding to input_data\n",
    "    embedding = get_embed(input_data, vocab_size, embed_dim)\n",
    "    \n",
    "    # build RNN \n",
    "    outputs, final_state = build_rnn(cell, embedding)\n",
    "    \n",
    "    # apply fully connected layer with a linear activation\n",
    "    weights_initializer = tf.truncated_normal_initializer(stddev=0.1)\n",
    "    logits = tf.contrib.layers.fully_connected(inputs=outputs,\n",
    "                                               num_outputs=vocab_size, \n",
    "                                               activation_fn=None, \n",
    "                                               normalizer_fn=None,\n",
    "                                               normalizer_params=None,\n",
    "                                               weights_initializer=weights_initializer,\n",
    "                                               weights_regularizer=None,\n",
    "                                               biases_initializer=tf.zeros_initializer(),\n",
    "                                               biases_regularizer=None,\n",
    "                                               reuse=None,\n",
    "                                               variables_collections=None,\n",
    "                                               outputs_collections=None,\n",
    "                                               trainable=True,\n",
    "                                               scope=None)\n",
    "    \n",
    "    return (logits, final_state)\n",
    "\n",
    "\n",
    "\"\"\"\n",
    "DON'T MODIFY ANYTHING IN THIS CELL THAT IS BELOW THIS LINE\n",
    "\"\"\"\n",
    "tests.test_build_nn(build_nn)"
   ]
  },
  {
   "cell_type": "markdown",
   "metadata": {},
   "source": [
    "### Batches\n",
    "Implement `get_batches` to create batches of input and targets using `int_text`.  The batches should be a Numpy array with the shape `(number of batches, 2, batch size, sequence length)`. Each batch contains two elements:\n",
    "- The first element is a single batch of **input** with the shape `[batch size, sequence length]`\n",
    "- The second element is a single batch of **targets** with the shape `[batch size, sequence length]`\n",
    "\n",
    "If you can't fill the last batch with enough data, drop the last batch.\n",
    "\n",
    "For exmple, `get_batches([1, 2, 3, 4, 5, 6, 7, 8, 9, 10, 11, 12, 13, 14, 15, 16, 17, 18, 19, 20], 3, 2)` would return a Numpy array of the following:\n",
    "```\n",
    "[\n",
    "  # First Batch\n",
    "  [\n",
    "    # Batch of Input\n",
    "    [[ 1  2], [ 7  8], [13 14]]\n",
    "    # Batch of targets\n",
    "    [[ 2  3], [ 8  9], [14 15]]\n",
    "  ]\n",
    "\n",
    "  # Second Batch\n",
    "  [\n",
    "    # Batch of Input\n",
    "    [[ 3  4], [ 9 10], [15 16]]\n",
    "    # Batch of targets\n",
    "    [[ 4  5], [10 11], [16 17]]\n",
    "  ]\n",
    "\n",
    "  # Third Batch\n",
    "  [\n",
    "    # Batch of Input\n",
    "    [[ 5  6], [11 12], [17 18]]\n",
    "    # Batch of targets\n",
    "    [[ 6  7], [12 13], [18  1]]\n",
    "  ]\n",
    "]\n",
    "```\n",
    "\n",
    "Notice that the last target value in the last batch is the first input value of the first batch. In this case, `1`. This is a common technique used when creating sequence batches, although it is rather unintuitive."
   ]
  },
  {
   "cell_type": "code",
   "execution_count": 13,
   "metadata": {},
   "outputs": [
    {
     "ename": "AssertionError",
     "evalue": "The last target of the last batch should be the first input of the first batch. Found [4476 4477 4478 4479 4480] but expected [4476 4477 4478 4479    0]",
     "output_type": "error",
     "traceback": [
      "\u001b[0;31m---------------------------------------------------------------------------\u001b[0m",
      "\u001b[0;31mAssertionError\u001b[0m                            Traceback (most recent call last)",
      "\u001b[0;32m<ipython-input-13-5c5bf9207762>\u001b[0m in \u001b[0;36m<module>\u001b[0;34m()\u001b[0m\n\u001b[1;32m     28\u001b[0m \u001b[0mDON\u001b[0m\u001b[0;31m'\u001b[0m\u001b[0mT\u001b[0m \u001b[0mMODIFY\u001b[0m \u001b[0mANYTHING\u001b[0m \u001b[0mIN\u001b[0m \u001b[0mTHIS\u001b[0m \u001b[0mCELL\u001b[0m \u001b[0mTHAT\u001b[0m \u001b[0mIS\u001b[0m \u001b[0mBELOW\u001b[0m \u001b[0mTHIS\u001b[0m \u001b[0mLINE\u001b[0m\u001b[0;34m\u001b[0m\u001b[0m\n\u001b[1;32m     29\u001b[0m \"\"\"\n\u001b[0;32m---> 30\u001b[0;31m \u001b[0mtests\u001b[0m\u001b[0;34m.\u001b[0m\u001b[0mtest_get_batches\u001b[0m\u001b[0;34m(\u001b[0m\u001b[0mget_batches\u001b[0m\u001b[0;34m)\u001b[0m\u001b[0;34m\u001b[0m\u001b[0m\n\u001b[0m",
      "\u001b[0;32m/home/cbios/github/deep-learning/tv-script-generation/problem_unittests.py\u001b[0m in \u001b[0;36mtest_get_batches\u001b[0;34m(get_batches)\u001b[0m\n\u001b[1;32m     99\u001b[0m \u001b[0;34m\u001b[0m\u001b[0m\n\u001b[1;32m    100\u001b[0m         \u001b[0;32massert\u001b[0m \u001b[0mnp\u001b[0m\u001b[0;34m.\u001b[0m\u001b[0marray_equal\u001b[0m\u001b[0;34m(\u001b[0m\u001b[0mbatches\u001b[0m\u001b[0;34m[\u001b[0m\u001b[0;34m-\u001b[0m\u001b[0;36m1\u001b[0m\u001b[0;34m,\u001b[0m\u001b[0;36m1\u001b[0m\u001b[0;34m,\u001b[0m\u001b[0;34m-\u001b[0m\u001b[0;36m1\u001b[0m\u001b[0;34m]\u001b[0m\u001b[0;34m,\u001b[0m \u001b[0mlast_seq\u001b[0m\u001b[0;34m)\u001b[0m\u001b[0;34m,\u001b[0m\u001b[0;31m\\\u001b[0m\u001b[0;34m\u001b[0m\u001b[0m\n\u001b[0;32m--> 101\u001b[0;31m             \u001b[0;34m'The last target of the last batch should be the first input of the first batch. Found {} but expected {}'\u001b[0m\u001b[0;34m.\u001b[0m\u001b[0mformat\u001b[0m\u001b[0;34m(\u001b[0m\u001b[0mbatches\u001b[0m\u001b[0;34m[\u001b[0m\u001b[0;34m-\u001b[0m\u001b[0;36m1\u001b[0m\u001b[0;34m,\u001b[0m\u001b[0;36m1\u001b[0m\u001b[0;34m,\u001b[0m\u001b[0;34m-\u001b[0m\u001b[0;36m1\u001b[0m\u001b[0;34m]\u001b[0m\u001b[0;34m,\u001b[0m \u001b[0mlast_seq\u001b[0m\u001b[0;34m)\u001b[0m\u001b[0;34m\u001b[0m\u001b[0m\n\u001b[0m\u001b[1;32m    102\u001b[0m \u001b[0;34m\u001b[0m\u001b[0m\n\u001b[1;32m    103\u001b[0m     \u001b[0m_print_success_message\u001b[0m\u001b[0;34m(\u001b[0m\u001b[0;34m)\u001b[0m\u001b[0;34m\u001b[0m\u001b[0m\n",
      "\u001b[0;31mAssertionError\u001b[0m: The last target of the last batch should be the first input of the first batch. Found [4476 4477 4478 4479 4480] but expected [4476 4477 4478 4479    0]"
     ]
    }
   ],
   "source": [
    "def get_batches(int_text, batch_size, seq_length):\n",
    "    \"\"\"\n",
    "    Return batches of input and target\n",
    "    :param int_text: Text with the words replaced by their ids\n",
    "    :param batch_size: The size of batch\n",
    "    :param seq_length: The length of sequence\n",
    "    :return: Batches as a Numpy array\n",
    "    \"\"\"\n",
    "    \n",
    "    \n",
    "    num_batches = int(len( int_text ) // ( batch_size * seq_length ))\n",
    "    data_len = num_batches * batch_size * seq_length\n",
    "\n",
    "    # drop the last batch if it cannot be filled with data\n",
    "    input_data = np.array(int_text[:data_len])\n",
    "    target_data = np.array(int_text[1:data_len + 1])\n",
    "\n",
    "    # reshape and split\n",
    "    input_data_batches = np.split(input_data.reshape(batch_size, -1), num_batches, 1)\n",
    "    target_data_batches = np.split(target_data.reshape(batch_size, -1), num_batches, 1)\n",
    "\n",
    "    batches = np.array(list(zip(input_data_batches, target_data_batches)))\n",
    "\n",
    "    return batches\n",
    "\n",
    "\n",
    "\"\"\"\n",
    "DON'T MODIFY ANYTHING IN THIS CELL THAT IS BELOW THIS LINE\n",
    "\"\"\"\n",
    "tests.test_get_batches(get_batches)"
   ]
  },
  {
   "cell_type": "markdown",
   "metadata": {},
   "source": [
    "## Neural Network Training\n",
    "### Hyperparameters\n",
    "Tune the following parameters:\n",
    "\n",
    "- Set `num_epochs` to the number of epochs.\n",
    "- Set `batch_size` to the batch size.\n",
    "- Set `rnn_size` to the size of the RNNs.\n",
    "- Set `embed_dim` to the size of the embedding.\n",
    "- Set `seq_length` to the length of sequence.\n",
    "- Set `learning_rate` to the learning rate.\n",
    "- Set `show_every_n_batches` to the number of batches the neural network should print progress."
   ]
  },
  {
   "cell_type": "code",
   "execution_count": 28,
   "metadata": {
    "collapsed": true
   },
   "outputs": [],
   "source": [
    "# Number of Epochs\n",
    "num_epochs = 350  #tree fifty\n",
    "# Batch Size\n",
    "batch_size = 512\n",
    "# RNN Size - let's use the dual TitanX card's memory...\n",
    "rnn_size = 1024\n",
    "# Embedding Dimension Size\n",
    "embed_dim = 256\n",
    "# Sequence Length\n",
    "seq_length = 28\n",
    "# Learning Rate\n",
    "learning_rate = 0.001\n",
    "# Show stats for every n number of batches\n",
    "show_every_n_batches = 10\n",
    "\n",
    "\"\"\"\n",
    "DON'T MODIFY ANYTHING IN THIS CELL THAT IS BELOW THIS LINE\n",
    "\"\"\"\n",
    "save_dir = './save'"
   ]
  },
  {
   "cell_type": "markdown",
   "metadata": {},
   "source": [
    "### Build the Graph\n",
    "Build the graph using the neural network you implemented."
   ]
  },
  {
   "cell_type": "code",
   "execution_count": 29,
   "metadata": {},
   "outputs": [
    {
     "name": "stdout",
     "output_type": "stream",
     "text": [
      "[5, 2, None, 1024]\n"
     ]
    }
   ],
   "source": [
    "\"\"\"\n",
    "DON'T MODIFY ANYTHING IN THIS CELL\n",
    "\"\"\"\n",
    "from tensorflow.contrib import seq2seq\n",
    "\n",
    "train_graph = tf.Graph()\n",
    "with train_graph.as_default():\n",
    "    vocab_size = len(int_to_vocab)\n",
    "    input_text, targets, lr = get_inputs()\n",
    "    input_data_shape = tf.shape(input_text)\n",
    "    cell, initial_state = get_init_cell(input_data_shape[0], rnn_size)\n",
    "    logits, final_state = build_nn(cell, rnn_size, input_text, vocab_size, embed_dim)\n",
    "\n",
    "    # Probabilities for generating words\n",
    "    probs = tf.nn.softmax(logits, name='probs')\n",
    "\n",
    "    # Loss function\n",
    "    cost = seq2seq.sequence_loss(\n",
    "        logits,\n",
    "        targets,\n",
    "        tf.ones([input_data_shape[0], input_data_shape[1]]))\n",
    "\n",
    "    # Optimizer\n",
    "    optimizer = tf.train.AdamOptimizer(lr)\n",
    "\n",
    "    # Gradient Clipping\n",
    "    gradients = optimizer.compute_gradients(cost)\n",
    "    capped_gradients = [(tf.clip_by_value(grad, -1., 1.), var) for grad, var in gradients if grad is not None]\n",
    "    train_op = optimizer.apply_gradients(capped_gradients)"
   ]
  },
  {
   "cell_type": "markdown",
   "metadata": {},
   "source": [
    "## Train\n",
    "Train the neural network on the preprocessed data.  If you have a hard time getting a good loss, check the [forums](https://discussions.udacity.com/) to see if anyone is having the same problem."
   ]
  },
  {
   "cell_type": "code",
   "execution_count": 30,
   "metadata": {},
   "outputs": [
    {
     "name": "stdout",
     "output_type": "stream",
     "text": [
      "Epoch   0 Batch    0/4   train_loss = 8.822\n",
      "Epoch   2 Batch    2/4   train_loss = 7.634\n",
      "Epoch   5 Batch    0/4   train_loss = 6.193\n",
      "Epoch   7 Batch    2/4   train_loss = 6.014\n",
      "Epoch  10 Batch    0/4   train_loss = 5.932\n",
      "Epoch  12 Batch    2/4   train_loss = 5.936\n",
      "Epoch  15 Batch    0/4   train_loss = 5.897\n",
      "Epoch  17 Batch    2/4   train_loss = 5.881\n",
      "Epoch  20 Batch    0/4   train_loss = 5.746\n",
      "Epoch  22 Batch    2/4   train_loss = 5.655\n",
      "Epoch  25 Batch    0/4   train_loss = 5.521\n",
      "Epoch  27 Batch    2/4   train_loss = 5.455\n",
      "Epoch  30 Batch    0/4   train_loss = 5.328\n",
      "Epoch  32 Batch    2/4   train_loss = 5.272\n",
      "Epoch  35 Batch    0/4   train_loss = 5.100\n",
      "Epoch  37 Batch    2/4   train_loss = 5.021\n",
      "Epoch  40 Batch    0/4   train_loss = 4.890\n",
      "Epoch  42 Batch    2/4   train_loss = 4.858\n",
      "Epoch  45 Batch    0/4   train_loss = 4.760\n",
      "Epoch  47 Batch    2/4   train_loss = 4.713\n",
      "Epoch  50 Batch    0/4   train_loss = 4.568\n",
      "Epoch  52 Batch    2/4   train_loss = 4.504\n",
      "Epoch  55 Batch    0/4   train_loss = 4.371\n",
      "Epoch  57 Batch    2/4   train_loss = 4.331\n",
      "Epoch  60 Batch    0/4   train_loss = 4.176\n",
      "Epoch  62 Batch    2/4   train_loss = 4.148\n",
      "Epoch  65 Batch    0/4   train_loss = 4.105\n",
      "Epoch  67 Batch    2/4   train_loss = 4.150\n",
      "Epoch  70 Batch    0/4   train_loss = 4.108\n",
      "Epoch  72 Batch    2/4   train_loss = 3.854\n",
      "Epoch  75 Batch    0/4   train_loss = 3.694\n",
      "Epoch  77 Batch    2/4   train_loss = 3.612\n",
      "Epoch  80 Batch    0/4   train_loss = 3.539\n",
      "Epoch  82 Batch    2/4   train_loss = 3.582\n",
      "Epoch  85 Batch    0/4   train_loss = 3.374\n",
      "Epoch  87 Batch    2/4   train_loss = 3.305\n",
      "Epoch  90 Batch    0/4   train_loss = 3.347\n",
      "Epoch  92 Batch    2/4   train_loss = 3.286\n",
      "Epoch  95 Batch    0/4   train_loss = 3.045\n",
      "Epoch  97 Batch    2/4   train_loss = 2.950\n",
      "Epoch 100 Batch    0/4   train_loss = 2.794\n",
      "Epoch 102 Batch    2/4   train_loss = 2.779\n",
      "Epoch 105 Batch    0/4   train_loss = 2.776\n",
      "Epoch 107 Batch    2/4   train_loss = 2.642\n",
      "Epoch 110 Batch    0/4   train_loss = 2.453\n",
      "Epoch 112 Batch    2/4   train_loss = 2.414\n",
      "Epoch 115 Batch    0/4   train_loss = 2.404\n",
      "Epoch 117 Batch    2/4   train_loss = 2.295\n",
      "Epoch 120 Batch    0/4   train_loss = 2.103\n",
      "Epoch 122 Batch    2/4   train_loss = 2.141\n",
      "Epoch 125 Batch    0/4   train_loss = 1.938\n",
      "Epoch 127 Batch    2/4   train_loss = 1.848\n",
      "Epoch 130 Batch    0/4   train_loss = 1.716\n",
      "Epoch 132 Batch    2/4   train_loss = 1.677\n",
      "Epoch 135 Batch    0/4   train_loss = 1.613\n",
      "Epoch 137 Batch    2/4   train_loss = 1.699\n",
      "Epoch 140 Batch    0/4   train_loss = 1.469\n",
      "Epoch 142 Batch    2/4   train_loss = 1.346\n",
      "Epoch 145 Batch    0/4   train_loss = 1.236\n",
      "Epoch 147 Batch    2/4   train_loss = 1.160\n",
      "Epoch 150 Batch    0/4   train_loss = 1.101\n",
      "Epoch 152 Batch    2/4   train_loss = 1.103\n",
      "Epoch 155 Batch    0/4   train_loss = 1.044\n",
      "Epoch 157 Batch    2/4   train_loss = 0.933\n",
      "Epoch 160 Batch    0/4   train_loss = 0.865\n",
      "Epoch 162 Batch    2/4   train_loss = 0.856\n",
      "Epoch 165 Batch    0/4   train_loss = 0.795\n",
      "Epoch 167 Batch    2/4   train_loss = 0.769\n",
      "Epoch 170 Batch    0/4   train_loss = 0.707\n",
      "Epoch 172 Batch    2/4   train_loss = 0.670\n",
      "Epoch 175 Batch    0/4   train_loss = 0.659\n",
      "Epoch 177 Batch    2/4   train_loss = 0.586\n",
      "Epoch 180 Batch    0/4   train_loss = 0.519\n",
      "Epoch 182 Batch    2/4   train_loss = 0.472\n",
      "Epoch 185 Batch    0/4   train_loss = 0.445\n",
      "Epoch 187 Batch    2/4   train_loss = 0.416\n",
      "Epoch 190 Batch    0/4   train_loss = 0.398\n",
      "Epoch 192 Batch    2/4   train_loss = 0.373\n",
      "Epoch 195 Batch    0/4   train_loss = 0.363\n",
      "Epoch 197 Batch    2/4   train_loss = 0.343\n",
      "Epoch 200 Batch    0/4   train_loss = 0.337\n",
      "Epoch 202 Batch    2/4   train_loss = 0.316\n",
      "Epoch 205 Batch    0/4   train_loss = 0.307\n",
      "Epoch 207 Batch    2/4   train_loss = 0.292\n",
      "Epoch 210 Batch    0/4   train_loss = 0.284\n",
      "Epoch 212 Batch    2/4   train_loss = 0.267\n",
      "Epoch 215 Batch    0/4   train_loss = 0.264\n",
      "Epoch 217 Batch    2/4   train_loss = 0.248\n",
      "Epoch 220 Batch    0/4   train_loss = 0.247\n",
      "Epoch 222 Batch    2/4   train_loss = 0.232\n",
      "Epoch 225 Batch    0/4   train_loss = 0.232\n",
      "Epoch 227 Batch    2/4   train_loss = 0.219\n",
      "Epoch 230 Batch    0/4   train_loss = 0.220\n",
      "Epoch 232 Batch    2/4   train_loss = 0.208\n",
      "Epoch 235 Batch    0/4   train_loss = 0.210\n",
      "Epoch 237 Batch    2/4   train_loss = 0.198\n",
      "Epoch 240 Batch    0/4   train_loss = 0.200\n",
      "Epoch 242 Batch    2/4   train_loss = 0.188\n",
      "Epoch 245 Batch    0/4   train_loss = 0.191\n",
      "Epoch 247 Batch    2/4   train_loss = 0.181\n",
      "Epoch 250 Batch    0/4   train_loss = 0.184\n",
      "Epoch 252 Batch    2/4   train_loss = 0.174\n",
      "Epoch 255 Batch    0/4   train_loss = 0.177\n",
      "Epoch 257 Batch    2/4   train_loss = 0.168\n",
      "Epoch 260 Batch    0/4   train_loss = 0.173\n",
      "Epoch 262 Batch    2/4   train_loss = 0.161\n",
      "Epoch 265 Batch    0/4   train_loss = 0.165\n",
      "Epoch 267 Batch    2/4   train_loss = 0.158\n",
      "Epoch 270 Batch    0/4   train_loss = 0.160\n",
      "Epoch 272 Batch    2/4   train_loss = 0.151\n",
      "Epoch 275 Batch    0/4   train_loss = 0.155\n",
      "Epoch 277 Batch    2/4   train_loss = 0.146\n",
      "Epoch 280 Batch    0/4   train_loss = 0.150\n",
      "Epoch 282 Batch    2/4   train_loss = 0.141\n",
      "Epoch 285 Batch    0/4   train_loss = 0.146\n",
      "Epoch 287 Batch    2/4   train_loss = 0.137\n",
      "Epoch 290 Batch    0/4   train_loss = 0.142\n",
      "Epoch 292 Batch    2/4   train_loss = 0.134\n",
      "Epoch 295 Batch    0/4   train_loss = 0.139\n",
      "Epoch 297 Batch    2/4   train_loss = 0.130\n",
      "Epoch 300 Batch    0/4   train_loss = 0.135\n",
      "Epoch 302 Batch    2/4   train_loss = 0.128\n",
      "Epoch 305 Batch    0/4   train_loss = 0.132\n",
      "Epoch 307 Batch    2/4   train_loss = 0.125\n",
      "Epoch 310 Batch    0/4   train_loss = 0.129\n",
      "Epoch 312 Batch    2/4   train_loss = 0.122\n",
      "Epoch 315 Batch    0/4   train_loss = 0.127\n",
      "Epoch 317 Batch    2/4   train_loss = 0.120\n",
      "Epoch 320 Batch    0/4   train_loss = 0.125\n",
      "Epoch 322 Batch    2/4   train_loss = 0.118\n",
      "Epoch 325 Batch    0/4   train_loss = 0.123\n",
      "Epoch 327 Batch    2/4   train_loss = 0.115\n",
      "Epoch 330 Batch    0/4   train_loss = 0.121\n",
      "Epoch 332 Batch    2/4   train_loss = 0.114\n",
      "Epoch 335 Batch    0/4   train_loss = 0.118\n",
      "Epoch 337 Batch    2/4   train_loss = 0.112\n",
      "Epoch 340 Batch    0/4   train_loss = 0.117\n",
      "Epoch 342 Batch    2/4   train_loss = 0.110\n",
      "Epoch 345 Batch    0/4   train_loss = 0.115\n",
      "Epoch 347 Batch    2/4   train_loss = 0.108\n",
      "Model Trained and Saved\n"
     ]
    }
   ],
   "source": [
    "\"\"\"\n",
    "DON'T MODIFY ANYTHING IN THIS CELL\n",
    "\"\"\"\n",
    "batches = get_batches(int_text, batch_size, seq_length)\n",
    "\n",
    "with tf.Session(graph=train_graph) as sess:\n",
    "    sess.run(tf.global_variables_initializer())\n",
    "\n",
    "    for epoch_i in range(num_epochs):\n",
    "        state = sess.run(initial_state, {input_text: batches[0][0]})\n",
    "\n",
    "        for batch_i, (x, y) in enumerate(batches):\n",
    "            feed = {\n",
    "                input_text: x,\n",
    "                targets: y,\n",
    "                initial_state: state,\n",
    "                lr: learning_rate}\n",
    "            train_loss, state, _ = sess.run([cost, final_state, train_op], feed)\n",
    "\n",
    "            # Show every <show_every_n_batches> batches\n",
    "            if (epoch_i * len(batches) + batch_i) % show_every_n_batches == 0:\n",
    "                print('Epoch {:>3} Batch {:>4}/{}   train_loss = {:.3f}'.format(\n",
    "                    epoch_i,\n",
    "                    batch_i,\n",
    "                    len(batches),\n",
    "                    train_loss))\n",
    "\n",
    "    # Save Model\n",
    "    saver = tf.train.Saver()\n",
    "    saver.save(sess, save_dir)\n",
    "    print('Model Trained and Saved')"
   ]
  },
  {
   "cell_type": "markdown",
   "metadata": {},
   "source": [
    "## Save Parameters\n",
    "Save `seq_length` and `save_dir` for generating a new TV script."
   ]
  },
  {
   "cell_type": "code",
   "execution_count": 31,
   "metadata": {
    "collapsed": true
   },
   "outputs": [],
   "source": [
    "\"\"\"\n",
    "DON'T MODIFY ANYTHING IN THIS CELL\n",
    "\"\"\"\n",
    "# Save parameters for checkpoint\n",
    "helper.save_params((seq_length, save_dir))"
   ]
  },
  {
   "cell_type": "markdown",
   "metadata": {},
   "source": [
    "# Checkpoint"
   ]
  },
  {
   "cell_type": "code",
   "execution_count": 32,
   "metadata": {
    "collapsed": true
   },
   "outputs": [],
   "source": [
    "\"\"\"\n",
    "DON'T MODIFY ANYTHING IN THIS CELL\n",
    "\"\"\"\n",
    "import tensorflow as tf\n",
    "import numpy as np\n",
    "import helper\n",
    "import problem_unittests as tests\n",
    "\n",
    "_, vocab_to_int, int_to_vocab, token_dict = helper.load_preprocess()\n",
    "seq_length, load_dir = helper.load_params()"
   ]
  },
  {
   "cell_type": "markdown",
   "metadata": {},
   "source": [
    "## Implement Generate Functions\n",
    "### Get Tensors\n",
    "Get tensors from `loaded_graph` using the function [`get_tensor_by_name()`](https://www.tensorflow.org/api_docs/python/tf/Graph#get_tensor_by_name).  Get the tensors using the following names:\n",
    "- \"input:0\"\n",
    "- \"initial_state:0\"\n",
    "- \"final_state:0\"\n",
    "- \"probs:0\"\n",
    "\n",
    "Return the tensors in the following tuple `(InputTensor, InitialStateTensor, FinalStateTensor, ProbsTensor)` "
   ]
  },
  {
   "cell_type": "code",
   "execution_count": 33,
   "metadata": {},
   "outputs": [
    {
     "name": "stdout",
     "output_type": "stream",
     "text": [
      "Tests Passed\n"
     ]
    }
   ],
   "source": [
    "def get_tensors(loaded_graph):\n",
    "    \"\"\"\n",
    "    Get input, initial state, final state, and probabilities tensor from <loaded_graph>\n",
    "    :param loaded_graph: TensorFlow graph loaded from file\n",
    "    :return: Tuple (InputTensor, InitialStateTensor, FinalStateTensor, ProbsTensor)\n",
    "    \"\"\"\n",
    "    \n",
    "    # get tensors from loaded_graph using the function get_tensor_by_name()\n",
    "    input_state = loaded_graph.get_tensor_by_name('input:0')\n",
    "    initial_state = loaded_graph.get_tensor_by_name('initial_state:0')\n",
    "    final_state = loaded_graph.get_tensor_by_name('final_state:0')\n",
    "    probs = loaded_graph.get_tensor_by_name('probs:0')\n",
    "    \n",
    "    return (input_state, initial_state, final_state, probs)\n",
    "\n",
    "\n",
    "\n",
    "\"\"\"\n",
    "DON'T MODIFY ANYTHING IN THIS CELL THAT IS BELOW THIS LINE\n",
    "\"\"\"\n",
    "tests.test_get_tensors(get_tensors)"
   ]
  },
  {
   "cell_type": "markdown",
   "metadata": {},
   "source": [
    "### Choose Word\n",
    "Implement the `pick_word()` function to select the next word using `probabilities`."
   ]
  },
  {
   "cell_type": "code",
   "execution_count": 35,
   "metadata": {},
   "outputs": [
    {
     "name": "stdout",
     "output_type": "stream",
     "text": [
      "Tests Passed\n"
     ]
    }
   ],
   "source": [
    "def pick_word(probabilities, int_to_vocab):\n",
    "    \"\"\"\n",
    "    Pick the next word in the generated text\n",
    "    :param probabilities: Probabilites of the next word\n",
    "    :param int_to_vocab: Dictionary of word ids as the keys and words as the values\n",
    "    :return: String of the predicted word\n",
    "    \"\"\"\n",
    "    \n",
    "    # get the max probability index \n",
    "    #max_prob_idx=np.argmax(probabilities)   \n",
    "    \n",
    "    # and then return the word using lookup\n",
    "    #return int_to_vocab[max_prob_idx] \n",
    "    # moe_szyslak:() i don't you.\n",
    "    # homer_simpson:() i don't you.\n",
    "    # homer_simpson:() i don't you.\n",
    "    # homer_simpson:() i don't you.\n",
    "    #^^ this always just returns the max, per the project Slack channel, we can use np.random.choice()  ^^\n",
    "    # https://docs.scipy.org/doc/numpy/refenence/generated/numpy.random.choice.html\n",
    "    \n",
    "    choice_list = list(int_to_vocab.values())\n",
    "    next_word = np.random.choice(choice_list,\n",
    "                     p=probabilities)\n",
    "    return next_word\n",
    "\n",
    "\"\"\"\n",
    "DON'T MODIFY ANYTHING IN THIS CELL THAT IS BELOW THIS LINE\n",
    "\"\"\"\n",
    "tests.test_pick_word(pick_word)"
   ]
  },
  {
   "cell_type": "markdown",
   "metadata": {},
   "source": [
    "## Generate TV Script\n",
    "This will generate the TV script for you.  Set `gen_length` to the length of TV script you want to generate."
   ]
  },
  {
   "cell_type": "code",
   "execution_count": 36,
   "metadata": {},
   "outputs": [
    {
     "name": "stdout",
     "output_type": "stream",
     "text": [
      "moe_szyslak: must like like you kahlua?\n",
      "doug: homer, are you mind about the shriners i sold away his world of a pipe of drink is cable edison. think you go to go us for expose.(more chuckle, then and really) oh to a bottle of springfield!\n",
      "homer_simpson: i got my chance.\n",
      "marge_simpson: i didn't go my event!(to barflies) ah, it's one i drink to help with with my kid is down is my buddy!\n",
      "marge_simpson: when you gotta surprised your head of goin'?\n",
      "moe_szyslak: oh? a sotto?\n",
      "moe_szyslak: hey. i got ya late of the card.(laughs, suddenly realizing) that take all all this thinking!\n",
      "chief_wiggum:(concerned, sad) i do with those forget-me-drinks me tonight to give them a justice ridiculous in my back tomorrow.\n",
      "carl_carlson: you're tavern...(looks) oh, god--\n",
      "homer_simpson: how are you the only hand up my life!\n",
      "homer_simpson: you salvation back!\n",
      "homer_simpson:(bottle, deliberate) who the\n"
     ]
    }
   ],
   "source": [
    "##### gen_length = 200\n",
    "# homer_simpson, moe_szyslak, or Barney_Gumble\n",
    "prime_word = 'moe_szyslak'\n",
    "\n",
    "\"\"\"\n",
    "DON'T MODIFY ANYTHING IN THIS CELL THAT IS BELOW THIS LINE\n",
    "\"\"\"\n",
    "loaded_graph = tf.Graph()\n",
    "with tf.Session(graph=loaded_graph) as sess:\n",
    "    # Load saved model\n",
    "    loader = tf.train.import_meta_graph(load_dir + '.meta')\n",
    "    loader.restore(sess, load_dir)\n",
    "\n",
    "    # Get Tensors from loaded model\n",
    "    input_text, initial_state, final_state, probs = get_tensors(loaded_graph)\n",
    "\n",
    "    # Sentences generation setup\n",
    "    gen_sentences = [prime_word + ':']\n",
    "    prev_state = sess.run(initial_state, {input_text: np.array([[1]])})\n",
    "\n",
    "    # Generate sentences\n",
    "    for n in range(gen_length):\n",
    "        # Dynamic Input\n",
    "        dyn_input = [[vocab_to_int[word] for word in gen_sentences[-seq_length:]]]\n",
    "        dyn_seq_length = len(dyn_input[0])\n",
    "\n",
    "        # Get Prediction\n",
    "        probabilities, prev_state = sess.run(\n",
    "            [probs, final_state],\n",
    "            {input_text: dyn_input, initial_state: prev_state})\n",
    "        \n",
    "        pred_word = pick_word(probabilities[dyn_seq_length-1], int_to_vocab)\n",
    "\n",
    "        gen_sentences.append(pred_word)\n",
    "    \n",
    "    # Remove tokens\n",
    "    tv_script = ' '.join(gen_sentences)\n",
    "    for key, token in token_dict.items():\n",
    "        ending = ' ' if key in ['\\n', '(', '\"'] else ''\n",
    "        tv_script = tv_script.replace(' ' + token.lower(), key)\n",
    "    tv_script = tv_script.replace('\\n ', '\\n')\n",
    "    tv_script = tv_script.replace('( ', '(')\n",
    "        \n",
    "    print(tv_script)"
   ]
  },
  {
   "cell_type": "markdown",
   "metadata": {},
   "source": [
    "# The TV Script is Nonsensical\n",
    "It's ok if the TV script doesn't make any sense.  We trained on less than a megabyte of text.  In order to get good results, you'll have to use a smaller vocabulary or get more data.  Luckly there's more data!  As we mentioned in the begging of this project, this is a subset of [another dataset](https://www.kaggle.com/wcukierski/the-simpsons-by-the-data).  We didn't have you train on all the data, because that would take too long.  However, you are free to train your neural network on all the data.  After you complete the project, of course.\n",
    "# Submitting This Project\n",
    "When submitting this project, make sure to run all the cells before saving the notebook. Save the notebook file as \"dlnd_tv_script_generation.ipynb\" and save it as a HTML file under \"File\" -> \"Download as\". Include the \"helper.py\" and \"problem_unittests.py\" files in your submission."
   ]
  }
 ],
 "metadata": {
  "anaconda-cloud": {},
  "kernelspec": {
   "display_name": "Python 3",
   "language": "python",
   "name": "python3"
  },
  "language_info": {
   "codemirror_mode": {
    "name": "ipython",
    "version": 3
   },
   "file_extension": ".py",
   "mimetype": "text/x-python",
   "name": "python",
   "nbconvert_exporter": "python",
   "pygments_lexer": "ipython3",
   "version": "3.6.1"
  }
 },
 "nbformat": 4,
 "nbformat_minor": 1
}
